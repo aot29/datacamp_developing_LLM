{
 "cells": [
  {
   "cell_type": "markdown",
   "id": "70e8dcc0-4dc4-48b9-9746-47851b7146ff",
   "metadata": {},
   "source": [
    "To train a model:\n",
    "* Build a PyTorch dataset\n",
    "* Setup a dataloader\n",
    "* Define the model"
   ]
  },
  {
   "cell_type": "markdown",
   "id": "d2f707f1-6ee4-4d54-9c01-2a747c63c73f",
   "metadata": {},
   "source": [
    "## Build a PyTorch dataset"
   ]
  },
  {
   "cell_type": "code",
   "execution_count": 96,
   "id": "6d5a39ca-842b-4c17-b3bb-2f74ae05545d",
   "metadata": {},
   "outputs": [],
   "source": [
    "from torch.utils.data import Dataset\n",
    "import pandas as pd\n",
    "import numpy as np\n",
    "\n",
    "class WaterDataset(Dataset):\n",
    "    \"\"\"Reads a csv file, stores it as a numpy array.\"\"\"\n",
    "    def __init__(self, csv_path):\n",
    "        super().__init__()\n",
    "        df = pd.read_csv(csv_path)\n",
    "        self.data = df.to_numpy().astype(np.double)\n",
    "\n",
    "    def __len__(self):\n",
    "        \"\"\"Required by PyTorch\"\"\"\n",
    "        return self.data.shape[0]\n",
    "\n",
    "    def __getitem__(self, idx):\n",
    "        \"\"\"Returns features and label for a single sample.\"\"\"\n",
    "        features = self.data[idx, :-1]\n",
    "        label = self.data[idx, -1]\n",
    "        return features, label"
   ]
  },
  {
   "cell_type": "code",
   "execution_count": 97,
   "id": "2e8d5e34-4170-4193-8fea-9300084d3104",
   "metadata": {},
   "outputs": [],
   "source": [
    "# create an instance of the train dataset\n",
    "dataset_train = WaterDataset(\"data/water_potability/water_train.csv\")\n",
    "\n",
    "# create an instance of the test dataset\n",
    "dataset_test = WaterDataset(\"data/water_potability/water_test.csv\")"
   ]
  },
  {
   "cell_type": "markdown",
   "id": "b7a7720a-8746-49a5-9b4b-02ee39bd4ca8",
   "metadata": {},
   "source": [
    "## Setup a dataloader"
   ]
  },
  {
   "cell_type": "code",
   "execution_count": 102,
   "id": "119a0a20-1395-4cf9-a801-d4d3ac0d0726",
   "metadata": {},
   "outputs": [],
   "source": [
    "from torch.utils.data import DataLoader\n",
    "\n",
    "# create a dataloader with the train dataset\n",
    "dataloader_train = DataLoader(dataset_train, batch_size=2, shuffle=False)\n",
    "\n",
    "# create a dataoader with the test dataset\n",
    "dataloader_test = DataLoader(dataset_test, batch_size=2, shuffle=False)"
   ]
  },
  {
   "cell_type": "code",
   "execution_count": 103,
   "id": "de89cb04-5004-497e-af8a-55b46d38a5c0",
   "metadata": {},
   "outputs": [
    {
     "name": "stdout",
     "output_type": "stream",
     "text": [
      "Features: tensor([[0.4836, 0.6156, 0.5140, 0.7774, 0.3546, 0.3353, 0.3673, 0.5141, 0.6173],\n",
      "        [0.6396, 0.5160, 0.3806, 0.3902, 0.6283, 0.1575, 0.4515, 0.5587, 0.8349]],\n",
      "       dtype=torch.float64)\n",
      "Labels: tensor([1., 0.], dtype=torch.float64)\n"
     ]
    }
   ],
   "source": [
    "# get one batch from the dataloader\n",
    "features, labels = next(iter(dataloader_train))\n",
    "print(f\"Features: {features}\\nLabels: {labels}\")"
   ]
  },
  {
   "cell_type": "markdown",
   "id": "175d3a52-f26f-4077-bed0-c09ad571bff3",
   "metadata": {},
   "source": [
    "## Define model"
   ]
  },
  {
   "cell_type": "code",
   "execution_count": 104,
   "id": "252d96fe-b2e5-4459-b950-1db6cf22ed0e",
   "metadata": {},
   "outputs": [],
   "source": [
    "import torch.nn as nn\n",
    "\n",
    "class Net(nn.Module):\n",
    "    def __init__(self):\n",
    "        \"\"\"Defines the model's layers\"\"\"\n",
    "        super(Net, self).__init__()\n",
    "        self.fc1 = nn.Linear(9, 32)\n",
    "        self.fc2 = nn.Linear(32, 8)\n",
    "        self.fc3 = nn.Linear(8, 1)\n",
    "        self.double() \n",
    "\n",
    "    def forward(self, x):\n",
    "        \"\"\"Defines what happens to the input when passed to the model.\"\"\"\n",
    "        x = nn.functional.relu(self.fc1(x))\n",
    "        x = nn.functional.relu(self.fc2(x))\n",
    "        x = nn.functional.sigmoid(self.fc3(x))\n",
    "        return x\n",
    "\n",
    "class Net_TEST(nn.Module):\n",
    "    def __init__(self):\n",
    "        \"\"\"Defines the model's layers\"\"\"\n",
    "        super(Net, self).__init__()\n",
    "        self.fc1 = nn.Linear(9, 32)\n",
    "        self.bn1 = nn.BatchNorm1d(32)\n",
    "        self.fc2 = nn.Linear(32, 8)\n",
    "        self.fc3 = nn.Linear(8, 1)\n",
    "#        self.double() \n",
    "\n",
    "    def forward(self, x):\n",
    "        \"\"\"Defines what happens to the input when passed to the model.\"\"\"\n",
    "        x = self.fc1(x)\n",
    "        x = self.bn1(x)\n",
    "        x = nn.functional.elu(x)\n",
    "        x = self.fc2(x)\n",
    "        x = nn.functional.elu(x)\n",
    "        x = self.fc3(x)\n",
    "        x = nn.functional.sigmoid(x)\n",
    "        return x"
   ]
  },
  {
   "cell_type": "markdown",
   "id": "f558811a-ad0b-4a2e-b2fa-475e16b7a156",
   "metadata": {},
   "source": [
    "## Training loop"
   ]
  },
  {
   "cell_type": "code",
   "execution_count": 66,
   "id": "c94d3f2e-f987-4aad-a245-8f65e40e9fbd",
   "metadata": {},
   "outputs": [],
   "source": [
    "import torch.nn as nn\n",
    "import torch.optim as optim\n",
    "\n",
    "def train_model(optimizer, net, num_epochs):\n",
    "    net.train()\n",
    "    for epoch in range(num_epochs):\n",
    "        for features, labels in dataloader_train:\n",
    "            optimizer.zero_grad()\n",
    "            outputs = net(features)  # forward pass\n",
    "            loss = criterion(outputs, labels.view(-1, 1))  # reshape labels to match shape of outputs\n",
    "            loss.backward()  # compute gradients\n",
    "            optimizer.step()  # updates models params based on gradients"
   ]
  },
  {
   "cell_type": "markdown",
   "id": "2195b5f7-5bea-4b3c-b796-d227cb80d735",
   "metadata": {},
   "source": [
    "## Model evaluation"
   ]
  },
  {
   "cell_type": "code",
   "execution_count": 73,
   "id": "78361daf-7ef7-4cb9-923f-557308b9f19a",
   "metadata": {},
   "outputs": [],
   "source": [
    "from torchmetrics import Accuracy\n",
    "import torch\n",
    "\n",
    "def evaluate_model(net):\n",
    "    acc = Accuracy(task=\"binary\")\n",
    "    net.eval() \n",
    "    with torch.no_grad():  # switch off gradients calculations\n",
    "        for features, labels in dataloader_test:  # iterate over test dataset\n",
    "            outputs = net(features)  # forward pass yields predicted probabilities\n",
    "            preds = (outputs >= 0.5).float()  # transform to labels by threshold\n",
    "            acc(preds, labels.view(-1, 1))\n",
    "\n",
    "    return(acc.compute())"
   ]
  },
  {
   "cell_type": "code",
   "execution_count": 55,
   "id": "88da7e43-7679-49e2-b35c-6e4f689f011c",
   "metadata": {},
   "outputs": [
    {
     "name": "stdout",
     "output_type": "stream",
     "text": [
      "Optimizer: SGD, accuracy: 0.5904572606086731\n",
      "Optimizer: Adagrad, accuracy: 0.5904572606086731\n",
      "Optimizer: RMSprop, accuracy: 0.5904572606086731\n",
      "Optimizer: Adam, accuracy: 0.5904572606086731\n"
     ]
    }
   ],
   "source": [
    "criterion = nn.BCELoss()\n",
    "\n",
    "# efficient but too simple to be of practical value\n",
    "# learning rate remains constant\n",
    "net = Net()\n",
    "optimizer = optim.SGD(net.parameters(), lr=0.01)  \n",
    "train_model(optimizer, net, 10)\n",
    "acc = evaluate_model(net)\n",
    "print(f\"Optimizer: SGD, accuracy: {acc}\")\n",
    "\n",
    "# Adaptive gradient descent: decreases learning rate for params that are infrequently updated\n",
    "# suitable for data in which some features are not often observed (sparse data)\n",
    "net = Net()\n",
    "optimizer = optim.Adagrad(net.parameters(), lr=0.01) \n",
    "train_model(optimizer, net, 10)\n",
    "acc = evaluate_model(net)\n",
    "print(f\"Optimizer: Adagrad, accuracy: {acc}\")\n",
    "\n",
    "# Learning rate does not decrease as fast as in Adagrad, based on the size of the previous gradient\n",
    "net = Net()\n",
    "optimizer = optim.RMSprop(net.parameters(), lr=0.01) \n",
    "train_model(optimizer, net, 10)\n",
    "acc = evaluate_model(net)\n",
    "print(f\"Optimizer: RMSprop, accuracy: {acc}\")\n",
    "\n",
    "# Averages past gradients, where most recent gradients have more weight (momentum)\n",
    "# Most used optimizer\n",
    "net = Net()\n",
    "optimizer = optim.Adam(net.parameters(), lr=0.1)\n",
    "train_model(optimizer, net, 10)\n",
    "acc = evaluate_model(net)\n",
    "print(f\"Optimizer: Adam, accuracy: {acc}\")"
   ]
  },
  {
   "cell_type": "code",
   "execution_count": 105,
   "id": "775c2193-f0d0-438c-a2fb-353cea595951",
   "metadata": {},
   "outputs": [
    {
     "name": "stdout",
     "output_type": "stream",
     "text": [
      "Optimizer: Adam, accuracy: 0.5904572606086731\n"
     ]
    }
   ],
   "source": [
    "net = Net()\n",
    "optimizer = optim.Adam(net.parameters(), lr=0.1)\n",
    "train_model(optimizer, net, 2)\n",
    "acc = evaluate_model(net)\n",
    "print(f\"Optimizer: Adam, accuracy: {acc}\")"
   ]
  },
  {
   "cell_type": "code",
   "execution_count": null,
   "id": "43f8cfd7-bcc7-4465-ac85-c73481c4e7b8",
   "metadata": {},
   "outputs": [],
   "source": []
  }
 ],
 "metadata": {
  "kernelspec": {
   "display_name": "Python 3 (ipykernel)",
   "language": "python",
   "name": "python3"
  },
  "language_info": {
   "codemirror_mode": {
    "name": "ipython",
    "version": 3
   },
   "file_extension": ".py",
   "mimetype": "text/x-python",
   "name": "python",
   "nbconvert_exporter": "python",
   "pygments_lexer": "ipython3",
   "version": "3.12.2"
  }
 },
 "nbformat": 4,
 "nbformat_minor": 5
}
