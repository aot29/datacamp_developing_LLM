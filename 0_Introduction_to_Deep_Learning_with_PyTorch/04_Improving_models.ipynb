{
 "cells": [
  {
   "cell_type": "markdown",
   "id": "da03d877-f808-47bc-978a-b01c79530803",
   "metadata": {},
   "source": [
    "# Improving models"
   ]
  },
  {
   "cell_type": "code",
   "execution_count": 3,
   "id": "30e7cede-263d-42cd-bee6-c95c2322fea4",
   "metadata": {},
   "outputs": [
    {
     "data": {
      "text/html": [
       "<div>\n",
       "<style scoped>\n",
       "    .dataframe tbody tr th:only-of-type {\n",
       "        vertical-align: middle;\n",
       "    }\n",
       "\n",
       "    .dataframe tbody tr th {\n",
       "        vertical-align: top;\n",
       "    }\n",
       "\n",
       "    .dataframe thead th {\n",
       "        text-align: right;\n",
       "    }\n",
       "</style>\n",
       "<table border=\"1\" class=\"dataframe\">\n",
       "  <thead>\n",
       "    <tr style=\"text-align: right;\">\n",
       "      <th></th>\n",
       "      <th>name</th>\n",
       "      <th>hair</th>\n",
       "      <th>feathers</th>\n",
       "      <th>eggs</th>\n",
       "      <th>milk</th>\n",
       "      <th>predator</th>\n",
       "      <th>fins</th>\n",
       "      <th>legs</th>\n",
       "      <th>tail</th>\n",
       "      <th>type</th>\n",
       "    </tr>\n",
       "  </thead>\n",
       "  <tbody>\n",
       "    <tr>\n",
       "      <th>0</th>\n",
       "      <td>skimmer</td>\n",
       "      <td>0</td>\n",
       "      <td>1</td>\n",
       "      <td>1</td>\n",
       "      <td>0</td>\n",
       "      <td>1</td>\n",
       "      <td>0</td>\n",
       "      <td>2</td>\n",
       "      <td>1</td>\n",
       "      <td>2</td>\n",
       "    </tr>\n",
       "    <tr>\n",
       "      <th>1</th>\n",
       "      <td>gull</td>\n",
       "      <td>0</td>\n",
       "      <td>1</td>\n",
       "      <td>1</td>\n",
       "      <td>0</td>\n",
       "      <td>1</td>\n",
       "      <td>0</td>\n",
       "      <td>2</td>\n",
       "      <td>1</td>\n",
       "      <td>2</td>\n",
       "    </tr>\n",
       "    <tr>\n",
       "      <th>2</th>\n",
       "      <td>seahorse</td>\n",
       "      <td>0</td>\n",
       "      <td>0</td>\n",
       "      <td>1</td>\n",
       "      <td>0</td>\n",
       "      <td>0</td>\n",
       "      <td>1</td>\n",
       "      <td>0</td>\n",
       "      <td>1</td>\n",
       "      <td>4</td>\n",
       "    </tr>\n",
       "    <tr>\n",
       "      <th>3</th>\n",
       "      <td>tuatara</td>\n",
       "      <td>0</td>\n",
       "      <td>0</td>\n",
       "      <td>1</td>\n",
       "      <td>0</td>\n",
       "      <td>1</td>\n",
       "      <td>0</td>\n",
       "      <td>4</td>\n",
       "      <td>1</td>\n",
       "      <td>3</td>\n",
       "    </tr>\n",
       "    <tr>\n",
       "      <th>4</th>\n",
       "      <td>squirrel</td>\n",
       "      <td>1</td>\n",
       "      <td>0</td>\n",
       "      <td>0</td>\n",
       "      <td>1</td>\n",
       "      <td>0</td>\n",
       "      <td>0</td>\n",
       "      <td>2</td>\n",
       "      <td>1</td>\n",
       "      <td>1</td>\n",
       "    </tr>\n",
       "  </tbody>\n",
       "</table>\n",
       "</div>"
      ],
      "text/plain": [
       "       name   hair   feathers   eggs   milk   predator   fins   legs   tail  \\\n",
       "0   skimmer      0          1      1      0          1      0      2      1   \n",
       "1      gull      0          1      1      0          1      0      2      1   \n",
       "2  seahorse      0          0      1      0          0      1      0      1   \n",
       "3   tuatara      0          0      1      0          1      0      4      1   \n",
       "4  squirrel      1          0      0      1          0      0      2      1   \n",
       "\n",
       "    type  \n",
       "0      2  \n",
       "1      2  \n",
       "2      4  \n",
       "3      3  \n",
       "4      1  "
      ]
     },
     "execution_count": 3,
     "metadata": {},
     "output_type": "execute_result"
    }
   ],
   "source": [
    "import pandas as pd\n",
    "import numpy as np\n",
    "\n",
    "animals = pd.read_csv('animals.csv')\n",
    "animals.head()"
   ]
  },
  {
   "cell_type": "code",
   "execution_count": 15,
   "id": "4af01be8-da04-4fbd-95cc-b0b59c43eeb5",
   "metadata": {},
   "outputs": [
    {
     "data": {
      "text/plain": [
       "array([[0, 1, 1, 0, 1, 0, 2, 1],\n",
       "       [0, 1, 1, 0, 1, 0, 2, 1],\n",
       "       [0, 0, 1, 0, 0, 1, 0, 1],\n",
       "       [0, 0, 1, 0, 1, 0, 4, 1],\n",
       "       [1, 0, 0, 1, 0, 0, 2, 1]])"
      ]
     },
     "execution_count": 15,
     "metadata": {},
     "output_type": "execute_result"
    }
   ],
   "source": [
    "# all columns except the name and the type\n",
    "features = animals.iloc[:, 1:-1]\n",
    "X = features.to_numpy()\n",
    "X"
   ]
  },
  {
   "cell_type": "code",
   "execution_count": 16,
   "id": "151242fe-c436-4f55-b95f-07d53caddfb4",
   "metadata": {},
   "outputs": [
    {
     "data": {
      "text/plain": [
       "array([2, 2, 4, 3, 1])"
      ]
     },
     "execution_count": 16,
     "metadata": {},
     "output_type": "execute_result"
    }
   ],
   "source": [
    "# target aka ground truth\n",
    "target = animals.iloc[:, -1]\n",
    "y = target.to_numpy()\n",
    "y"
   ]
  },
  {
   "cell_type": "code",
   "execution_count": 17,
   "id": "c0a3b568-5fdb-4ebe-98a0-7c87a8d50341",
   "metadata": {},
   "outputs": [],
   "source": [
    "import torch\n",
    "from torch.utils.data import TensorDataset\n",
    "\n",
    "# setup tensor dataset\n",
    "dataset = TensorDataset(torch.tensor(X).float(), torch.tensor(y).float())"
   ]
  },
  {
   "cell_type": "code",
   "execution_count": 19,
   "id": "6882da78-46af-4cc1-a901-81df973c059a",
   "metadata": {},
   "outputs": [
    {
     "name": "stdout",
     "output_type": "stream",
     "text": [
      "input: tensor([0., 1., 1., 0., 1., 0., 2., 1.]), label: tensor(2.)\n"
     ]
    }
   ],
   "source": [
    "# access individual samples\n",
    "sample = dataset[0]\n",
    "input_sample, label_sample = sample\n",
    "print(\"input: %s, label: %s\" % (input_sample, label_sample))"
   ]
  },
  {
   "cell_type": "code",
   "execution_count": 21,
   "id": "c2897cbf-7307-4500-9720-92822e69f94f",
   "metadata": {},
   "outputs": [
    {
     "name": "stdout",
     "output_type": "stream",
     "text": [
      "inputs: tensor([[0., 1., 1., 0., 1., 0., 2., 1.],\n",
      "        [0., 0., 1., 0., 1., 0., 4., 1.]]), labels: tensor([2., 3.])\n",
      "inputs: tensor([[1., 0., 0., 1., 0., 0., 2., 1.],\n",
      "        [0., 0., 1., 0., 0., 1., 0., 1.]]), labels: tensor([1., 4.])\n",
      "inputs: tensor([[0., 1., 1., 0., 1., 0., 2., 1.]]), labels: tensor([2.])\n"
     ]
    }
   ],
   "source": [
    "from torch.utils.data import DataLoader\n",
    "\n",
    "batch_size = 2 # how many samples per iteration\n",
    "shuffle = True\n",
    "\n",
    "# create a dataloader and iterate\n",
    "dataloader = DataLoader(dataset, batch_size=batch_size, shuffle=shuffle)\n",
    "for batch_inputs, batch_labels in dataloader:\n",
    "    print(\"inputs: %s, labels: %s\" % (batch_inputs, batch_labels))\n",
    "    "
   ]
  },
  {
   "cell_type": "markdown",
   "id": "5ec16b44-7fd6-4ec6-a172-4bb6cc1bf9da",
   "metadata": {},
   "source": [
    "## Water potability example"
   ]
  },
  {
   "cell_type": "code",
   "execution_count": 8,
   "id": "e6d068fd-413d-4127-920b-029993e32709",
   "metadata": {},
   "outputs": [
    {
     "data": {
      "text/html": [
       "<div>\n",
       "<style scoped>\n",
       "    .dataframe tbody tr th:only-of-type {\n",
       "        vertical-align: middle;\n",
       "    }\n",
       "\n",
       "    .dataframe tbody tr th {\n",
       "        vertical-align: top;\n",
       "    }\n",
       "\n",
       "    .dataframe thead th {\n",
       "        text-align: right;\n",
       "    }\n",
       "</style>\n",
       "<table border=\"1\" class=\"dataframe\">\n",
       "  <thead>\n",
       "    <tr style=\"text-align: right;\">\n",
       "      <th></th>\n",
       "      <th>ph</th>\n",
       "      <th>Hardness</th>\n",
       "      <th>Solids</th>\n",
       "      <th>Chloramines</th>\n",
       "      <th>Sulfate</th>\n",
       "      <th>Conductivity</th>\n",
       "      <th>Organic_carbon</th>\n",
       "      <th>Trihalomethanes</th>\n",
       "      <th>Turbidity</th>\n",
       "      <th>Potability</th>\n",
       "    </tr>\n",
       "  </thead>\n",
       "  <tbody>\n",
       "    <tr>\n",
       "      <th>0</th>\n",
       "      <td>0.587349</td>\n",
       "      <td>0.577747</td>\n",
       "      <td>0.386298</td>\n",
       "      <td>0.568199</td>\n",
       "      <td>0.647347</td>\n",
       "      <td>0.292985</td>\n",
       "      <td>0.654522</td>\n",
       "      <td>0.795029</td>\n",
       "      <td>0.630115</td>\n",
       "      <td>0</td>\n",
       "    </tr>\n",
       "    <tr>\n",
       "      <th>1</th>\n",
       "      <td>0.643654</td>\n",
       "      <td>0.441300</td>\n",
       "      <td>0.314381</td>\n",
       "      <td>0.439304</td>\n",
       "      <td>0.514545</td>\n",
       "      <td>0.356685</td>\n",
       "      <td>0.377248</td>\n",
       "      <td>0.202914</td>\n",
       "      <td>0.520358</td>\n",
       "      <td>0</td>\n",
       "    </tr>\n",
       "    <tr>\n",
       "      <th>2</th>\n",
       "      <td>0.388934</td>\n",
       "      <td>0.470876</td>\n",
       "      <td>0.506122</td>\n",
       "      <td>0.524364</td>\n",
       "      <td>0.561537</td>\n",
       "      <td>0.142913</td>\n",
       "      <td>0.249922</td>\n",
       "      <td>0.401487</td>\n",
       "      <td>0.219973</td>\n",
       "      <td>0</td>\n",
       "    </tr>\n",
       "    <tr>\n",
       "      <th>3</th>\n",
       "      <td>0.725820</td>\n",
       "      <td>0.715942</td>\n",
       "      <td>0.506141</td>\n",
       "      <td>0.521683</td>\n",
       "      <td>0.751819</td>\n",
       "      <td>0.148683</td>\n",
       "      <td>0.467200</td>\n",
       "      <td>0.658678</td>\n",
       "      <td>0.242428</td>\n",
       "      <td>0</td>\n",
       "    </tr>\n",
       "    <tr>\n",
       "      <th>4</th>\n",
       "      <td>0.610517</td>\n",
       "      <td>0.532588</td>\n",
       "      <td>0.237701</td>\n",
       "      <td>0.270288</td>\n",
       "      <td>0.495155</td>\n",
       "      <td>0.494792</td>\n",
       "      <td>0.409721</td>\n",
       "      <td>0.469762</td>\n",
       "      <td>0.585049</td>\n",
       "      <td>0</td>\n",
       "    </tr>\n",
       "  </tbody>\n",
       "</table>\n",
       "</div>"
      ],
      "text/plain": [
       "         ph  Hardness    Solids  Chloramines   Sulfate  Conductivity  \\\n",
       "0  0.587349  0.577747  0.386298     0.568199  0.647347      0.292985   \n",
       "1  0.643654  0.441300  0.314381     0.439304  0.514545      0.356685   \n",
       "2  0.388934  0.470876  0.506122     0.524364  0.561537      0.142913   \n",
       "3  0.725820  0.715942  0.506141     0.521683  0.751819      0.148683   \n",
       "4  0.610517  0.532588  0.237701     0.270288  0.495155      0.494792   \n",
       "\n",
       "   Organic_carbon  Trihalomethanes  Turbidity  Potability  \n",
       "0        0.654522         0.795029   0.630115           0  \n",
       "1        0.377248         0.202914   0.520358           0  \n",
       "2        0.249922         0.401487   0.219973           0  \n",
       "3        0.467200         0.658678   0.242428           0  \n",
       "4        0.409721         0.469762   0.585049           0  "
      ]
     },
     "execution_count": 8,
     "metadata": {},
     "output_type": "execute_result"
    }
   ],
   "source": [
    "import pandas as pd\n",
    "import numpy as np\n",
    "import torch\n",
    "import torch.nn as nn\n",
    "from torch.utils.data import TensorDataset\n",
    "from torch.utils.data import DataLoader\n",
    "\n",
    "potability = pd.read_csv('water_potability.csv')\n",
    "potability.head()"
   ]
  },
  {
   "cell_type": "code",
   "execution_count": 9,
   "id": "b062c0aa-e508-416d-bde3-075ca23399b4",
   "metadata": {},
   "outputs": [
    {
     "name": "stdout",
     "output_type": "stream",
     "text": [
      "tensor([[0.5964],\n",
      "        [0.6105],\n",
      "        [0.5581],\n",
      "        ...,\n",
      "        [0.6514],\n",
      "        [0.5759],\n",
      "        [0.5717]], grad_fn=<AddmmBackward0>)\n"
     ]
    }
   ],
   "source": [
    "# Load the different columns into two PyTorch tensors\n",
    "features = torch.tensor(potability[['ph', 'Sulfate', 'Conductivity', 'Organic_carbon']].to_numpy()).float()\n",
    "target = torch.tensor(potability['Potability'].to_numpy()).float()\n",
    "\n",
    "# Create a dataset from the two generated tensors\n",
    "dataset = TensorDataset(features, target)\n",
    "\n",
    "# Create a dataloader using the above dataset\n",
    "dataloader = DataLoader(dataset, shuffle=True, batch_size=2)\n",
    "x, y = next(iter(dataloader))\n",
    "\n",
    "# Create a model using the nn.Sequential API\n",
    "model = nn.Sequential(nn.Linear(4, 2), nn.Linear(2, 1))\n",
    "output = model(features)\n",
    "print(output)"
   ]
  },
  {
   "cell_type": "markdown",
   "id": "98e24e99-6e82-4f1b-8779-4901ee6a9aab",
   "metadata": {},
   "source": [
    "## Calculate training loss\n",
    "Split the data into train, validate and test datasets. Create a DataLoader for each."
   ]
  },
  {
   "cell_type": "code",
   "execution_count": null,
   "id": "232b6a8c-1422-4e94-813d-4e3d5f3c44ee",
   "metadata": {},
   "outputs": [],
   "source": [
    "# the training loop\n",
    "for epoch in range(num_epochs):\n",
    "    training_loss = 0.0\n",
    "    for i, data in enumerate(trainingloader, 0):\n",
    "        # set gradients to 0\n",
    "        optimizer.zero_grad()\n",
    "        # get feature and target\n",
    "        feature, target = data\n",
    "        # forward pass\n",
    "        pred = model(feature)\n",
    "        # compute loss and gradients\n",
    "        loss = criterion(pred, target)\n",
    "        loss.backward()\n",
    "        # update model params\n",
    "        optimizer.step()\n",
    "        # calculate and sum losses\n",
    "        training_loss += loss.item()\n",
    "    epoch_loss = training_loss / len(trainloader) # len = number of batches in dataset"
   ]
  },
  {
   "cell_type": "markdown",
   "id": "c6f9566b-cf4a-4c78-ba5b-c93f63712c41",
   "metadata": {},
   "source": [
    "## Calculate validation loss\n",
    "After the training epoch"
   ]
  },
  {
   "cell_type": "code",
   "execution_count": null,
   "id": "59774373-8fea-4a00-ba74-b9f876c616c8",
   "metadata": {},
   "outputs": [],
   "source": [
    "validation_loss = 0.0\n",
    "model.eval() # switch to evaluation mode\n",
    "with torch.no_grad(): # speed up\n",
    "    for i, data in enumerate(validationloader, 0):\n",
    "        # set gradients to 0\n",
    "        optimizer.zero_grad()\n",
    "        # get feature and target\n",
    "        feature, target = data\n",
    "        # forward pass\n",
    "        pred = model(feature)\n",
    "        # compute loss and gradients\n",
    "        loss = criterion(pred, target)\n",
    "        loss.backward()\n",
    "        # update model params\n",
    "        optimizer.step()\n",
    "        # calculate and sum losses\n",
    "        validation_loss += loss.item()\n",
    "epoch_loss = validation_loss / len(validationloader) # len = number of batches in dataset\n",
    "model.train() # switch back to training before running the next training epoch"
   ]
  },
  {
   "cell_type": "markdown",
   "id": "1008f480-3059-4f89-be1d-754fdcfa664e",
   "metadata": {},
   "source": [
    "## Other metrics"
   ]
  },
  {
   "cell_type": "code",
   "execution_count": 2,
   "id": "40a8e699-9826-41e6-abc9-fde4984b24ed",
   "metadata": {},
   "outputs": [],
   "source": [
    "import torchmetrics\n",
    "\n",
    "# create accuracy metric using torchmetrics\n",
    "metric = torchmetrics.Accuracy(task=\"multiclass\", num_classes=3) # performing classification over 3 classes\n",
    "for i, data in enumerate(dataloader, 0):\n",
    "    # get feature and target\n",
    "    feature, target = data\n",
    "    # forward pass\n",
    "    pred = model(feature)\n",
    "    # calc accuracy over the batch\n",
    "    acc = metric(pred, labels.argmax(dim=-1)) \n",
    "# calc accuracy over the whole epoch\n",
    "acc = metric.compute()\n",
    "print(\"acc on all data %f\" % acc)\n",
    "# reset the metric for the next epoch\n",
    "metric.reset()\n",
    "    \n"
   ]
  },
  {
   "cell_type": "markdown",
   "id": "9007791d-f80b-4762-a9c0-5ae11dec9c9c",
   "metadata": {},
   "source": [
    "## Overfitting\n",
    "* Reduce model size or add dropout layer\n",
    "* Force the parameters to remain small by applying weight decay\n",
    "* Augment data or get more"
   ]
  },
  {
   "cell_type": "markdown",
   "id": "06c9ff34-030a-470d-b02e-75d571b52df1",
   "metadata": {},
   "source": [
    "### Dropout"
   ]
  },
  {
   "cell_type": "code",
   "execution_count": 1,
   "id": "1e6364ac-9114-495e-a1d8-ea75ea402a2d",
   "metadata": {
    "collapsed": true,
    "jupyter": {
     "outputs_hidden": true
    }
   },
   "outputs": [
    {
     "ename": "NameError",
     "evalue": "name 'nn' is not defined",
     "output_type": "error",
     "traceback": [
      "\u001b[0;31m---------------------------------------------------------------------------\u001b[0m",
      "\u001b[0;31mNameError\u001b[0m                                 Traceback (most recent call last)",
      "Cell \u001b[0;32mIn[1], line 2\u001b[0m\n\u001b[1;32m      1\u001b[0m \u001b[38;5;66;03m# example dropout\u001b[39;00m\n\u001b[0;32m----> 2\u001b[0m model \u001b[38;5;241m=\u001b[39m \u001b[43mnn\u001b[49m\u001b[38;5;241m.\u001b[39mSequential(\n\u001b[1;32m      3\u001b[0m     nn\u001b[38;5;241m.\u001b[39mLinear(\u001b[38;5;241m8\u001b[39m, \u001b[38;5;241m4\u001b[39m),\n\u001b[1;32m      4\u001b[0m     nn\u001b[38;5;241m.\u001b[39mReLU(),\n\u001b[1;32m      5\u001b[0m     nn\u001b[38;5;241m.\u001b[39mDropout(p\u001b[38;5;241m=\u001b[39m\u001b[38;5;241m0.5\u001b[39m)\n\u001b[1;32m      6\u001b[0m )\n\u001b[1;32m      7\u001b[0m features \u001b[38;5;241m=\u001b[39m torch\u001b[38;5;241m.\u001b[39mrandn((\u001b[38;5;241m1\u001b[39m, \u001b[38;5;241m8\u001b[39m))\n\u001b[1;32m      8\u001b[0m model(i)\n",
      "\u001b[0;31mNameError\u001b[0m: name 'nn' is not defined"
     ]
    }
   ],
   "source": [
    "# example dropout\n",
    "model = nn.Sequential(\n",
    "    nn.Linear(8, 4),\n",
    "    nn.ReLU(),\n",
    "    nn.Dropout(p=0.5)\n",
    ")\n",
    "features = torch.randn((1, 8))\n",
    "model(i)"
   ]
  },
  {
   "cell_type": "markdown",
   "id": "f9e20cdd-e448-47e0-8e19-89dee956e212",
   "metadata": {},
   "source": [
    "Dropout is usually added after activatin function. Have to switch the model between model.train() and model.eval()"
   ]
  },
  {
   "cell_type": "markdown",
   "id": "da8ef44f-7810-42c6-8d26-72112bc979b6",
   "metadata": {},
   "source": [
    "### Weight decay\n",
    "Weight decay value should be 0 to 1, typically small, like 1e-3, 1e-4 "
   ]
  },
  {
   "cell_type": "code",
   "execution_count": null,
   "id": "ddd02568-d4dd-45bd-82e6-08bec54b7591",
   "metadata": {},
   "outputs": [],
   "source": [
    "# example weight decay\n",
    "optimizer = optim.SGD(model.parameters(), lr=1e-3, weight_decay=1e-4)"
   ]
  },
  {
   "cell_type": "markdown",
   "id": "ab234a66-88a3-46cb-88a6-39a21a29be58",
   "metadata": {},
   "source": [
    "## Improve performance\n",
    "\n",
    "* Create a model (large enough) that can overfit the training set\n",
    "* Reduce overfitting\n",
    "* Tune hyperparams"
   ]
  },
  {
   "cell_type": "code",
   "execution_count": 2,
   "id": "f36c48c3-7e77-46d8-b303-68e4dcb5d4a5",
   "metadata": {
    "collapsed": true,
    "jupyter": {
     "outputs_hidden": true
    }
   },
   "outputs": [
    {
     "ename": "NameError",
     "evalue": "name 'trainloader' is not defined",
     "output_type": "error",
     "traceback": [
      "\u001b[0;31m---------------------------------------------------------------------------\u001b[0m",
      "\u001b[0;31mNameError\u001b[0m                                 Traceback (most recent call last)",
      "Cell \u001b[0;32mIn[2], line 2\u001b[0m\n\u001b[1;32m      1\u001b[0m \u001b[38;5;66;03m# overfit a single data point\u001b[39;00m\n\u001b[0;32m----> 2\u001b[0m features, labels \u001b[38;5;241m=\u001b[39m \u001b[38;5;28mnext\u001b[39m(\u001b[38;5;28miter\u001b[39m(\u001b[43mtrainloader\u001b[49m))\n\u001b[1;32m      3\u001b[0m \u001b[38;5;28;01mfor\u001b[39;00m i \u001b[38;5;129;01min\u001b[39;00m \u001b[38;5;28mrange\u001b[39m(\u001b[38;5;241m1e3\u001b[39m):\n\u001b[1;32m      4\u001b[0m     outputs \u001b[38;5;241m=\u001b[39m model(features)\n",
      "\u001b[0;31mNameError\u001b[0m: name 'trainloader' is not defined"
     ]
    }
   ],
   "source": [
    "# start by overfitting a single data point\n",
    "features, labels = next(iter(trainloader))\n",
    "for i in range(1e3):\n",
    "    outputs = model(features)\n",
    "    loss = criterion(outputs, labels)\n",
    "    loss.backward()\n",
    "    optimier.step()"
   ]
  },
  {
   "cell_type": "markdown",
   "id": "69d6adc3-bd39-434d-8fac-cf5869c0c694",
   "metadata": {},
   "source": [
    "The accuracy should be close to one and the loss close to 0.\n",
    "Then overfit the whole training set. Hyperparams should have their default values.\n",
    "Plot training and validation accuracy.\n",
    "\n",
    "After that, maximize validation accuracy applying dropout layers, data augmentation, weight decay, reducing model capacity\n",
    "\n",
    "After that, tune hyperparams, using grid search or random search"
   ]
  },
  {
   "cell_type": "code",
   "execution_count": null,
   "id": "210d369c-6ba4-4187-8eb3-2a936067b5b4",
   "metadata": {},
   "outputs": [],
   "source": [
    "# example grid search\n",
    "for factor in range(2, 6):\n",
    "    lr = 10 ** -factor"
   ]
  },
  {
   "cell_type": "code",
   "execution_count": null,
   "id": "92c87979-e959-43d1-885e-c9e539344385",
   "metadata": {},
   "outputs": [],
   "source": [
    "# example random search\n",
    "values = []\n",
    "for idx in range(10):\n",
    "    # Randomly sample a learning rate factor between 2 and 4\n",
    "    factor = np.random.uniform(2, 4)\n",
    "    lr = 10 ** -factor\n",
    "    \n",
    "    # Randomly select a momentum between 0.85 and 0.99\n",
    "    momentum = np.random.uniform(0.85, 0.99)\n",
    "    \n",
    "    values.append((lr, momentum))"
   ]
  }
 ],
 "metadata": {
  "kernelspec": {
   "display_name": "Python 3 (ipykernel)",
   "language": "python",
   "name": "python3"
  },
  "language_info": {
   "codemirror_mode": {
    "name": "ipython",
    "version": 3
   },
   "file_extension": ".py",
   "mimetype": "text/x-python",
   "name": "python",
   "nbconvert_exporter": "python",
   "pygments_lexer": "ipython3",
   "version": "3.12.2"
  }
 },
 "nbformat": 4,
 "nbformat_minor": 5
}
