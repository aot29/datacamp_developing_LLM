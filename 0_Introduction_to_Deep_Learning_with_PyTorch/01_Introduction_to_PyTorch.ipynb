{
 "cells": [
  {
   "cell_type": "markdown",
   "id": "69ed1e27-de97-4e54-aca6-91ebb5112231",
   "metadata": {},
   "source": [
    "# Introduction to PyTorch, a Deep Learning Library"
   ]
  },
  {
   "cell_type": "markdown",
   "id": "3ea02b0b-08a4-4cec-8d21-66280ee2a317",
   "metadata": {},
   "source": [
    "## Tensors"
   ]
  },
  {
   "cell_type": "code",
   "execution_count": 1,
   "id": "a4f659b2-4c3e-47a2-98fe-4a705df4fd44",
   "metadata": {},
   "outputs": [],
   "source": [
    "import torch # tabular data\n",
    "import numpy as np\n",
    "\n",
    "# create a tensor from a list\n",
    "lst = [[1, 2, 3], [4, 5, 6]]\n",
    "tensor = torch.tensor(lst)\n",
    "\n",
    "# create a tensor from numpy array\n",
    "np_array = np.array(lst)\n",
    "np_tensor = torch.from_numpy(np_array)"
   ]
  },
  {
   "cell_type": "markdown",
   "id": "5dd50f4e-389c-4282-9e4a-b44b55eb3c57",
   "metadata": {},
   "source": [
    "Tensor attributes"
   ]
  },
  {
   "cell_type": "code",
   "execution_count": 5,
   "id": "84d20e7f-6f49-4fa3-a9b6-48bfb4c06091",
   "metadata": {},
   "outputs": [
    {
     "data": {
      "text/plain": [
       "torch.Size([2, 3])"
      ]
     },
     "execution_count": 5,
     "metadata": {},
     "output_type": "execute_result"
    }
   ],
   "source": [
    "tensor.shape"
   ]
  },
  {
   "cell_type": "code",
   "execution_count": 7,
   "id": "2dfc9dab-5239-4c91-a68f-feb82dfec7ae",
   "metadata": {},
   "outputs": [
    {
     "data": {
      "text/plain": [
       "torch.int64"
      ]
     },
     "execution_count": 7,
     "metadata": {},
     "output_type": "execute_result"
    }
   ],
   "source": [
    "tensor.dtype"
   ]
  },
  {
   "cell_type": "code",
   "execution_count": 8,
   "id": "ec2ee6ab-1e24-4b72-8b34-fb5e51049634",
   "metadata": {},
   "outputs": [
    {
     "data": {
      "text/plain": [
       "device(type='cpu')"
      ]
     },
     "execution_count": 8,
     "metadata": {},
     "output_type": "execute_result"
    }
   ],
   "source": [
    "tensor.device"
   ]
  },
  {
   "cell_type": "markdown",
   "id": "74169e12-d52e-44f4-975c-ead81f9a0ded",
   "metadata": {},
   "source": [
    "Tensor operation on compatible shapes"
   ]
  },
  {
   "cell_type": "code",
   "execution_count": 9,
   "id": "618630d5-0b80-4134-9b2d-6ef85ace391b",
   "metadata": {},
   "outputs": [
    {
     "data": {
      "text/plain": [
       "tensor([[ 2,  4,  6],\n",
       "        [ 8, 10, 12]])"
      ]
     },
     "execution_count": 9,
     "metadata": {},
     "output_type": "execute_result"
    }
   ],
   "source": [
    "tensor + np_tensor"
   ]
  },
  {
   "cell_type": "code",
   "execution_count": 10,
   "id": "151428e2-4494-4f3c-9127-7ea8aed816ed",
   "metadata": {},
   "outputs": [
    {
     "data": {
      "text/plain": [
       "tensor([[ 1,  4,  9],\n",
       "        [16, 25, 36]])"
      ]
     },
     "execution_count": 10,
     "metadata": {},
     "output_type": "execute_result"
    }
   ],
   "source": [
    "tensor * np_tensor"
   ]
  },
  {
   "cell_type": "markdown",
   "id": "90ebc574-ba5c-4221-928c-d642a9c996c3",
   "metadata": {},
   "source": [
    "## First neural network\n",
    "A 2-layer network"
   ]
  },
  {
   "cell_type": "code",
   "execution_count": 12,
   "id": "80322e7d-a11f-40c0-a671-ef7603b76e23",
   "metadata": {},
   "outputs": [
    {
     "name": "stdout",
     "output_type": "stream",
     "text": [
      "tensor([[ 0.4680, -0.6139]], grad_fn=<AddmmBackward0>)\n"
     ]
    }
   ],
   "source": [
    "import torch.nn as nn\n",
    "\n",
    "# input tensor with 3 features\n",
    "input_tensor = torch.tensor([[0.3471, 0.4547, -0.2356]])\n",
    "\n",
    "# first linear layer\n",
    "linear_layer = nn.Linear(in_features=3, out_features=2)\n",
    "\n",
    "# pass input through linear layer\n",
    "output = linear_layer(input_tensor)\n",
    "print(output)"
   ]
  },
  {
   "cell_type": "markdown",
   "id": "f58b39f0-0134-486a-9f32-2052133e6c1a",
   "metadata": {},
   "source": [
    "Each linear layer has weights and biases"
   ]
  },
  {
   "cell_type": "code",
   "execution_count": 13,
   "id": "fa7ff458-c38e-4b7f-9a1d-f8061f4901c1",
   "metadata": {},
   "outputs": [
    {
     "data": {
      "text/plain": [
       "Parameter containing:\n",
       "tensor([[ 0.4967,  0.3452,  0.5310],\n",
       "        [ 0.1092, -0.4248, -0.0738]], requires_grad=True)"
      ]
     },
     "execution_count": 13,
     "metadata": {},
     "output_type": "execute_result"
    }
   ],
   "source": [
    "linear_layer.weight"
   ]
  },
  {
   "cell_type": "code",
   "execution_count": 14,
   "id": "2d2e031c-d2d5-4ff6-9b1f-47d1639c8555",
   "metadata": {},
   "outputs": [
    {
     "data": {
      "text/plain": [
       "Parameter containing:\n",
       "tensor([ 0.2638, -0.4760], requires_grad=True)"
      ]
     },
     "execution_count": 14,
     "metadata": {},
     "output_type": "execute_result"
    }
   ],
   "source": [
    "linear_layer.bias"
   ]
  },
  {
   "cell_type": "markdown",
   "id": "a812f8e7-2e96-4d78-bc0e-fae110b8f10e",
   "metadata": {},
   "source": [
    "A linear layer performs a matrix multiplication of input and weights, followed by adding the bias\n",
    "\n",
    "y0 = W0 * X + b0 \n",
    "\n",
    "where X is the input tensor, W0 are the weights and b0 the bias\n",
    "\n",
    "* Weights and bias are initialized randomly\n",
    "* NNs with only linear layers are called fully-connected\n",
    "* X is 2 x 3, W0 is 2 x 3, b0 is 2, y0 is 1 x 2"
   ]
  },
  {
   "cell_type": "markdown",
   "id": "7f8dcd13-7d15-4c29-91bd-3805b02ad72a",
   "metadata": {},
   "source": [
    "## Stacking layers"
   ]
  },
  {
   "cell_type": "code",
   "execution_count": 31,
   "id": "9847827b-acef-462e-9a5d-ca8b440cc5a3",
   "metadata": {},
   "outputs": [
    {
     "data": {
      "text/plain": [
       "torch.Size([1, 5])"
      ]
     },
     "execution_count": 31,
     "metadata": {},
     "output_type": "execute_result"
    }
   ],
   "source": [
    "# 3 layers\n",
    "model = nn.Sequential(\n",
    "    nn.Linear(10, 18),\n",
    "    nn.Linear(18, 20),\n",
    "    nn.Linear(20, 5)\n",
    ")\n",
    "input = torch.tensor([[0.1, 0.2, 0.3, 0.4, 0.5, 0.6, 0.7, 0.8, 0.9, 0.0]])\n",
    "output = model(input)\n",
    "output.shape"
   ]
  },
  {
   "cell_type": "markdown",
   "id": "e91f6642-3279-4e6b-9eec-c0b5e82774cf",
   "metadata": {},
   "source": [
    "## Activation Functions\n",
    "\n",
    "Linear layer: multiply input by weights, add bias.\n",
    "\n",
    "Non-linear layers can model more complex relationships.\n",
    "\n",
    "### Sigmoid\n",
    "* used for classification problems\n",
    "* Transform pre-activation output (e.g. an int or a float) to a flot between 0 and 1. Common threshold for classification is 0.5. "
   ]
  },
  {
   "cell_type": "code",
   "execution_count": 2,
   "id": "e13c4ccf-73be-4b13-83a2-909630e0b682",
   "metadata": {},
   "outputs": [
    {
     "data": {
      "text/plain": [
       "tensor([[0.9975]])"
      ]
     },
     "execution_count": 2,
     "metadata": {},
     "output_type": "execute_result"
    }
   ],
   "source": [
    "import torch\n",
    "import torch.nn as nn\n",
    "\n",
    "input_tensor = torch.tensor([[6.0]])\n",
    "sigmoid = nn.Sigmoid()\n",
    "output = sigmoid(input_tensor)\n",
    "output"
   ]
  },
  {
   "cell_type": "markdown",
   "id": "a427f65a-505e-467e-9a7f-a92a331984fa",
   "metadata": {},
   "source": [
    "Common usage as last step for binary classification (= logistic regression)"
   ]
  },
  {
   "cell_type": "code",
   "execution_count": null,
   "id": "519c6374-2828-422b-94da-b03d2bff2752",
   "metadata": {},
   "outputs": [],
   "source": [
    "model = nn.Sequential(\n",
    "    nn.Linear(6, 4), # Linear layer\n",
    "    nn.Linear(4, 1), # Linear layer\n",
    "    nn.Sigmoid() # Sigmoid activation\n",
    ")"
   ]
  },
  {
   "cell_type": "markdown",
   "id": "77eda8c8-6ef0-492f-8140-d34da60b56f6",
   "metadata": {},
   "source": [
    "### Softmax\n",
    "* For multi-class classification\n",
    "* Output vector is same size as input\n",
    "* The output is a probability distribution (each element between 0 and 1, sum is 1)\n"
   ]
  },
  {
   "cell_type": "code",
   "execution_count": 3,
   "id": "0ccfec69-cfe3-4ede-a51a-93c08f5571d6",
   "metadata": {},
   "outputs": [
    {
     "data": {
      "text/plain": [
       "tensor([[0.0159, 0.1173, 0.8668]])"
      ]
     },
     "execution_count": 3,
     "metadata": {},
     "output_type": "execute_result"
    }
   ],
   "source": [
    "import torch\n",
    "import torch.nn as nn\n",
    "\n",
    "input_tensor = torch.tensor([[4.0, 6.0, 8.0]])\n",
    "\n",
    "probabilities = nn.Softmax(dim = -1) # -1 means apply along last dimension\n",
    "probabilities(input_tensor)"
   ]
  }
 ],
 "metadata": {
  "kernelspec": {
   "display_name": "Python 3 (ipykernel)",
   "language": "python",
   "name": "python3"
  },
  "language_info": {
   "codemirror_mode": {
    "name": "ipython",
    "version": 3
   },
   "file_extension": ".py",
   "mimetype": "text/x-python",
   "name": "python",
   "nbconvert_exporter": "python",
   "pygments_lexer": "ipython3",
   "version": "3.12.2"
  }
 },
 "nbformat": 4,
 "nbformat_minor": 5
}
