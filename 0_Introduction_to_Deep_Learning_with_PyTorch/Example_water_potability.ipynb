{
 "cells": [
  {
   "cell_type": "markdown",
   "id": "a846f996-7bcd-4443-a9d8-3207a6ea7c3d",
   "metadata": {},
   "source": [
    "# Water potability example\n",
    "https://machinelearningmastery.com/building-a-binary-classification-model-in-pytorch/"
   ]
  },
  {
   "cell_type": "markdown",
   "id": "9f54fad7-f376-4563-a647-b42aec056b50",
   "metadata": {},
   "source": [
    "## Load dataset"
   ]
  },
  {
   "cell_type": "code",
   "execution_count": 1,
   "id": "fbf6d0c8-4ea9-4168-99b6-c48d317c9c3e",
   "metadata": {},
   "outputs": [],
   "source": [
    "import pandas as pd\n",
    " \n",
    "# Read data\n",
    "data = pd.read_csv(\"water_potability.csv\")\n",
    "#X = data.loc[:, ['ph', 'Sulfate', 'Conductivity', 'Organic_carbon']]\n",
    "#y = data.loc[:, ['Potability']]\n",
    "X = data.iloc[:, 0:9]\n",
    "y = data.iloc[:, 9]"
   ]
  },
  {
   "cell_type": "code",
   "execution_count": 2,
   "id": "fbe2e051-265b-4d47-9339-6734b900bb51",
   "metadata": {},
   "outputs": [
    {
     "data": {
      "text/html": [
       "<div>\n",
       "<style scoped>\n",
       "    .dataframe tbody tr th:only-of-type {\n",
       "        vertical-align: middle;\n",
       "    }\n",
       "\n",
       "    .dataframe tbody tr th {\n",
       "        vertical-align: top;\n",
       "    }\n",
       "\n",
       "    .dataframe thead th {\n",
       "        text-align: right;\n",
       "    }\n",
       "</style>\n",
       "<table border=\"1\" class=\"dataframe\">\n",
       "  <thead>\n",
       "    <tr style=\"text-align: right;\">\n",
       "      <th></th>\n",
       "      <th>ph</th>\n",
       "      <th>Hardness</th>\n",
       "      <th>Solids</th>\n",
       "      <th>Chloramines</th>\n",
       "      <th>Sulfate</th>\n",
       "      <th>Conductivity</th>\n",
       "      <th>Organic_carbon</th>\n",
       "      <th>Trihalomethanes</th>\n",
       "      <th>Turbidity</th>\n",
       "    </tr>\n",
       "  </thead>\n",
       "  <tbody>\n",
       "    <tr>\n",
       "      <th>0</th>\n",
       "      <td>0.587349</td>\n",
       "      <td>0.577747</td>\n",
       "      <td>0.386298</td>\n",
       "      <td>0.568199</td>\n",
       "      <td>0.647347</td>\n",
       "      <td>0.292985</td>\n",
       "      <td>0.654522</td>\n",
       "      <td>0.795029</td>\n",
       "      <td>0.630115</td>\n",
       "    </tr>\n",
       "    <tr>\n",
       "      <th>1</th>\n",
       "      <td>0.643654</td>\n",
       "      <td>0.441300</td>\n",
       "      <td>0.314381</td>\n",
       "      <td>0.439304</td>\n",
       "      <td>0.514545</td>\n",
       "      <td>0.356685</td>\n",
       "      <td>0.377248</td>\n",
       "      <td>0.202914</td>\n",
       "      <td>0.520358</td>\n",
       "    </tr>\n",
       "    <tr>\n",
       "      <th>2</th>\n",
       "      <td>0.388934</td>\n",
       "      <td>0.470876</td>\n",
       "      <td>0.506122</td>\n",
       "      <td>0.524364</td>\n",
       "      <td>0.561537</td>\n",
       "      <td>0.142913</td>\n",
       "      <td>0.249922</td>\n",
       "      <td>0.401487</td>\n",
       "      <td>0.219973</td>\n",
       "    </tr>\n",
       "    <tr>\n",
       "      <th>3</th>\n",
       "      <td>0.725820</td>\n",
       "      <td>0.715942</td>\n",
       "      <td>0.506141</td>\n",
       "      <td>0.521683</td>\n",
       "      <td>0.751819</td>\n",
       "      <td>0.148683</td>\n",
       "      <td>0.467200</td>\n",
       "      <td>0.658678</td>\n",
       "      <td>0.242428</td>\n",
       "    </tr>\n",
       "    <tr>\n",
       "      <th>4</th>\n",
       "      <td>0.610517</td>\n",
       "      <td>0.532588</td>\n",
       "      <td>0.237701</td>\n",
       "      <td>0.270288</td>\n",
       "      <td>0.495155</td>\n",
       "      <td>0.494792</td>\n",
       "      <td>0.409721</td>\n",
       "      <td>0.469762</td>\n",
       "      <td>0.585049</td>\n",
       "    </tr>\n",
       "  </tbody>\n",
       "</table>\n",
       "</div>"
      ],
      "text/plain": [
       "         ph  Hardness    Solids  Chloramines   Sulfate  Conductivity  \\\n",
       "0  0.587349  0.577747  0.386298     0.568199  0.647347      0.292985   \n",
       "1  0.643654  0.441300  0.314381     0.439304  0.514545      0.356685   \n",
       "2  0.388934  0.470876  0.506122     0.524364  0.561537      0.142913   \n",
       "3  0.725820  0.715942  0.506141     0.521683  0.751819      0.148683   \n",
       "4  0.610517  0.532588  0.237701     0.270288  0.495155      0.494792   \n",
       "\n",
       "   Organic_carbon  Trihalomethanes  Turbidity  \n",
       "0        0.654522         0.795029   0.630115  \n",
       "1        0.377248         0.202914   0.520358  \n",
       "2        0.249922         0.401487   0.219973  \n",
       "3        0.467200         0.658678   0.242428  \n",
       "4        0.409721         0.469762   0.585049  "
      ]
     },
     "execution_count": 2,
     "metadata": {},
     "output_type": "execute_result"
    }
   ],
   "source": [
    "X.head()"
   ]
  },
  {
   "cell_type": "code",
   "execution_count": 3,
   "id": "a6269812-821a-4ff6-8837-b351895754fb",
   "metadata": {},
   "outputs": [],
   "source": [
    "from sklearn.preprocessing import LabelEncoder\n",
    " \n",
    "encoder = LabelEncoder()\n",
    "encoder.fit(y)\n",
    "y = encoder.transform(y)"
   ]
  },
  {
   "cell_type": "code",
   "execution_count": 4,
   "id": "35b47ab7-54a8-492c-bfe9-eac7f197df0b",
   "metadata": {},
   "outputs": [
    {
     "data": {
      "text/plain": [
       "array([0, 1])"
      ]
     },
     "execution_count": 4,
     "metadata": {},
     "output_type": "execute_result"
    }
   ],
   "source": [
    "encoder.classes_"
   ]
  },
  {
   "cell_type": "code",
   "execution_count": 5,
   "id": "ef7f4406-7759-4f01-8776-bdd1d7a10ee2",
   "metadata": {},
   "outputs": [
    {
     "data": {
      "text/plain": [
       "array([0, 0, 0, ..., 1, 1, 1])"
      ]
     },
     "execution_count": 5,
     "metadata": {},
     "output_type": "execute_result"
    }
   ],
   "source": [
    "y"
   ]
  },
  {
   "cell_type": "code",
   "execution_count": 6,
   "id": "3fdc271a-f4e2-4859-b439-b21c7bcf28ba",
   "metadata": {},
   "outputs": [],
   "source": [
    "import torch\n",
    " \n",
    "X = torch.tensor(X.values, dtype=torch.float32)\n",
    "y = torch.tensor(y, dtype=torch.float32).reshape(-1, 1)"
   ]
  },
  {
   "cell_type": "markdown",
   "id": "900940de-69c0-49cd-a450-8d2e8a235401",
   "metadata": {},
   "source": [
    "## Create a model"
   ]
  },
  {
   "cell_type": "code",
   "execution_count": 7,
   "id": "b2ce7360-b4d8-4b71-abc6-d94582881895",
   "metadata": {},
   "outputs": [],
   "source": [
    "import torch.nn as nn\n",
    " \n",
    "class Wide(nn.Module):\n",
    "    def __init__(self):\n",
    "        super().__init__()\n",
    "        self.hidden = nn.Linear(9, 27)\n",
    "        self.relu = nn.ReLU()\n",
    "        self.output = nn.Linear(27, 1)\n",
    "        self.sigmoid = nn.Sigmoid()\n",
    " \n",
    "    def forward(self, x):\n",
    "        x = self.relu(self.hidden(x))\n",
    "        x = self.sigmoid(self.output(x))\n",
    "        return x"
   ]
  },
  {
   "cell_type": "code",
   "execution_count": 9,
   "id": "74916714-64fd-4066-82a2-3477c8096e63",
   "metadata": {},
   "outputs": [],
   "source": [
    "class Deep(nn.Module):\n",
    "    def __init__(self):\n",
    "        super().__init__()\n",
    "        self.layer1 = nn.Linear(9, 9)\n",
    "        self.act1 = nn.ReLU()\n",
    "        self.layer2 = nn.Linear(9, 9)\n",
    "        self.act2 = nn.ReLU()\n",
    "        self.layer3 = nn.Linear(9, 9)\n",
    "        self.act3 = nn.ReLU()\n",
    "        self.output = nn.Linear(9, 1)\n",
    "        self.sigmoid = nn.Sigmoid()\n",
    " \n",
    "    def forward(self, x):\n",
    "        x = self.act1(self.layer1(x))\n",
    "        x = self.act2(self.layer2(x))\n",
    "        x = self.act3(self.layer3(x))\n",
    "        x = self.sigmoid(self.output(x))\n",
    "        return x"
   ]
  },
  {
   "cell_type": "markdown",
   "id": "f563a6a9-f5f7-4c38-a8d5-ebc9bfe580a0",
   "metadata": {},
   "source": [
    "## Split data"
   ]
  },
  {
   "cell_type": "code",
   "execution_count": 10,
   "id": "c0ed58a2-bdc1-4401-8cfb-2733ebf4e69f",
   "metadata": {},
   "outputs": [],
   "source": [
    "from sklearn.model_selection import StratifiedKFold, train_test_split\n",
    " \n",
    "# train-test split: Hold out the test set for final model evaluation\n",
    "X_train, X_test, y_train, y_test = train_test_split(X, y, train_size=0.7, shuffle=True)"
   ]
  },
  {
   "cell_type": "markdown",
   "id": "ecb7e0eb-3b87-43be-9e80-fa8391fdb776",
   "metadata": {},
   "source": [
    "## Cross-validation"
   ]
  },
  {
   "cell_type": "code",
   "execution_count": 39,
   "id": "261b799f-65d5-4f91-ab54-ac7a034789ba",
   "metadata": {},
   "outputs": [],
   "source": [
    "import copy\n",
    "import numpy as np\n",
    "import torch\n",
    "import torch.nn as nn\n",
    "import torch.optim as optim\n",
    "import tqdm\n",
    " \n",
    "def model_train(model, X_train, y_train, X_val, y_val, loss_fn, optimizer, n_epochs=50): \n",
    "    n_epochs = n_epochs   # number of epochs to run\n",
    "    batch_size = 10  # size of each batch\n",
    "    batch_start = torch.arange(0, len(X_train), batch_size)\n",
    " \n",
    "    # Hold the best model\n",
    "    best_acc = - np.inf   # init to negative infinity\n",
    "    best_weights = None\n",
    " \n",
    "    for epoch in range(n_epochs):\n",
    "        model.train()\n",
    "        with tqdm.tqdm(batch_start, unit=\"batch\", mininterval=0, disable=True) as bar:\n",
    "            bar.set_description(f\"Epoch {epoch}\")\n",
    "            for start in bar:\n",
    "                # take a batch\n",
    "                X_batch = X_train[start:start+batch_size]\n",
    "                y_batch = y_train[start:start+batch_size]\n",
    "                # forward pass\n",
    "                y_pred = model(X_batch)\n",
    "                loss = loss_fn(y_pred, y_batch)\n",
    "                # backward pass\n",
    "                optimizer.zero_grad()\n",
    "                loss.backward()\n",
    "                # update weights\n",
    "                optimizer.step()\n",
    "                # print progress\n",
    "                acc = (y_pred.round() == y_batch).float().mean()\n",
    "                bar.set_postfix(\n",
    "                    loss=float(loss),\n",
    "                    acc=float(acc)\n",
    "                )\n",
    "        # evaluate accuracy at end of each epoch\n",
    "        model.eval()\n",
    "        y_pred = model(X_val)\n",
    "        acc = (y_pred.round() == y_val).float().mean()\n",
    "        acc = float(acc)\n",
    "        if acc > best_acc:\n",
    "            best_acc = acc\n",
    "            best_weights = copy.deepcopy(model.state_dict())\n",
    "    # restore model and return best accuracy\n",
    "    model.load_state_dict(best_weights)\n",
    "    return best_acc"
   ]
  },
  {
   "cell_type": "markdown",
   "id": "6d026342-0300-48ce-9c65-96d9e64f6fd8",
   "metadata": {},
   "source": [
    "Try out params for SGM optimizer"
   ]
  },
  {
   "cell_type": "code",
   "execution_count": 59,
   "id": "c59d42c3-4333-44d0-b428-ab283dd6648f",
   "metadata": {},
   "outputs": [
    {
     "name": "stdout",
     "output_type": "stream",
     "text": [
      "Accuracy (lr: 0.020000, momentum: 0.940000): 0.60\n"
     ]
    },
    {
     "name": "stderr",
     "output_type": "stream",
     "text": [
      "/tmp/ipykernel_47389/3638243877.py:21: FutureWarning: The behavior of DataFrame concatenation with empty or all-NA entries is deprecated. In a future version, this will no longer exclude empty or all-NA columns when determining the result dtypes. To retain the old behavior, exclude the relevant entries before the concat operation.\n",
      "  cv_results = cv_results._append({\"model\": \"wide\", \"lr\": lr, \"momentum\": momentum, \"acc\": mean_acc, \"std\": mean_std}, ignore_index=True)\n"
     ]
    },
    {
     "name": "stdout",
     "output_type": "stream",
     "text": [
      "Accuracy (lr: 0.020000, momentum: 0.950000): 0.60\n",
      "Accuracy (lr: 0.020000, momentum: 0.960000): 0.40\n",
      "Accuracy (lr: 0.020000, momentum: 0.970000): 0.60\n",
      "Accuracy (lr: 0.020000, momentum: 0.980000): 0.40\n",
      "Accuracy (lr: 0.020000, momentum: 0.990000): 0.40\n",
      "Accuracy (lr: 0.030000, momentum: 0.940000): 0.60\n",
      "Accuracy (lr: 0.030000, momentum: 0.950000): 0.59\n",
      "Accuracy (lr: 0.030000, momentum: 0.960000): 0.39\n",
      "Accuracy (lr: 0.030000, momentum: 0.970000): 0.47\n",
      "Accuracy (lr: 0.030000, momentum: 0.980000): 0.60\n",
      "Accuracy (lr: 0.030000, momentum: 0.990000): 0.40\n",
      "Accuracy (lr: 0.040000, momentum: 0.940000): 0.59\n",
      "Accuracy (lr: 0.040000, momentum: 0.950000): 0.40\n",
      "Accuracy (lr: 0.040000, momentum: 0.960000): 0.60\n",
      "Accuracy (lr: 0.040000, momentum: 0.970000): 0.40\n",
      "Accuracy (lr: 0.040000, momentum: 0.980000): 0.39\n",
      "Accuracy (lr: 0.040000, momentum: 0.990000): 0.40\n",
      "Accuracy (lr: 0.050000, momentum: 0.940000): 0.55\n",
      "Accuracy (lr: 0.050000, momentum: 0.950000): 0.48\n",
      "Accuracy (lr: 0.050000, momentum: 0.960000): 0.60\n",
      "Accuracy (lr: 0.050000, momentum: 0.970000): 0.60\n",
      "Accuracy (lr: 0.050000, momentum: 0.980000): 0.39\n",
      "Accuracy (lr: 0.050000, momentum: 0.990000): 0.40\n",
      "Accuracy (lr: 0.060000, momentum: 0.940000): 0.40\n",
      "Accuracy (lr: 0.060000, momentum: 0.950000): 0.60\n",
      "Accuracy (lr: 0.060000, momentum: 0.960000): 0.61\n",
      "Accuracy (lr: 0.060000, momentum: 0.970000): 0.40\n",
      "Accuracy (lr: 0.060000, momentum: 0.980000): 0.40\n",
      "Accuracy (lr: 0.060000, momentum: 0.990000): 0.50\n",
      "Accuracy (lr: 0.070000, momentum: 0.940000): 0.60\n",
      "Accuracy (lr: 0.070000, momentum: 0.950000): 0.40\n",
      "Accuracy (lr: 0.070000, momentum: 0.960000): 0.43\n",
      "Accuracy (lr: 0.070000, momentum: 0.970000): 0.40\n",
      "Accuracy (lr: 0.070000, momentum: 0.980000): 0.60\n",
      "Accuracy (lr: 0.070000, momentum: 0.990000): 0.56\n",
      "Accuracy (lr: 0.080000, momentum: 0.940000): 0.40\n",
      "Accuracy (lr: 0.080000, momentum: 0.950000): 0.40\n",
      "Accuracy (lr: 0.080000, momentum: 0.960000): 0.60\n",
      "Accuracy (lr: 0.080000, momentum: 0.970000): 0.42\n",
      "Accuracy (lr: 0.080000, momentum: 0.980000): 0.60\n",
      "Accuracy (lr: 0.080000, momentum: 0.990000): 0.39\n"
     ]
    }
   ],
   "source": [
    "cv_results = pd.DataFrame(columns=[\"model\", \"lr\", \"momentum\", \"acc\", \"std\"])\n",
    "# define 5-fold cross validation test harness\n",
    "kfold = StratifiedKFold(n_splits=10, shuffle=True)\n",
    "\n",
    "for lr in range(2, 9):\n",
    "    lr = lr / 100\n",
    "    for momentum in range(94, 100, 1):\n",
    "        momentum = momentum / 100\n",
    "        cv_scores = []\n",
    "        for train, test in kfold.split(X_train, y_train):\n",
    "            # loss function and optimizer\n",
    "            loss_fn = nn.BCELoss()  # binary cross entropy\n",
    "            optimizer = optim.SGD(model.parameters(), lr=lr, momentum=momentum)\n",
    "            # create model, train, and get accuracy\n",
    "            model = Wide()\n",
    "            acc = model_train(model, X_train[train], y_train[train], X_train[test], y_train[test], loss_fn, optimizer, 25)\n",
    "            cv_scores.append(acc)\n",
    "        mean_acc = np.mean(cv_scores)\n",
    "        mean_std = np.std(cv_scores)\n",
    "        print(\"Accuracy (lr: %f, momentum: %f): %.2f\" % (lr, momentum, acc))\n",
    "        cv_results = cv_results._append({\"model\": \"wide\", \"lr\": lr, \"momentum\": momentum, \"acc\": mean_acc, \"std\": mean_std}, ignore_index=True)"
   ]
  },
  {
   "cell_type": "code",
   "execution_count": 60,
   "id": "e6c4c2dd-d42a-47ae-85eb-ac8310011d13",
   "metadata": {},
   "outputs": [
    {
     "data": {
      "text/html": [
       "<div>\n",
       "<style scoped>\n",
       "    .dataframe tbody tr th:only-of-type {\n",
       "        vertical-align: middle;\n",
       "    }\n",
       "\n",
       "    .dataframe tbody tr th {\n",
       "        vertical-align: top;\n",
       "    }\n",
       "\n",
       "    .dataframe thead th {\n",
       "        text-align: right;\n",
       "    }\n",
       "</style>\n",
       "<table border=\"1\" class=\"dataframe\">\n",
       "  <thead>\n",
       "    <tr style=\"text-align: right;\">\n",
       "      <th></th>\n",
       "      <th>model</th>\n",
       "      <th>lr</th>\n",
       "      <th>momentum</th>\n",
       "      <th>acc</th>\n",
       "      <th>std</th>\n",
       "    </tr>\n",
       "  </thead>\n",
       "  <tbody>\n",
       "    <tr>\n",
       "      <th>13</th>\n",
       "      <td>wide</td>\n",
       "      <td>0.04</td>\n",
       "      <td>0.95</td>\n",
       "      <td>0.556454</td>\n",
       "      <td>0.070871</td>\n",
       "    </tr>\n",
       "    <tr>\n",
       "      <th>7</th>\n",
       "      <td>wide</td>\n",
       "      <td>0.03</td>\n",
       "      <td>0.95</td>\n",
       "      <td>0.549498</td>\n",
       "      <td>0.076045</td>\n",
       "    </tr>\n",
       "    <tr>\n",
       "      <th>9</th>\n",
       "      <td>wide</td>\n",
       "      <td>0.03</td>\n",
       "      <td>0.97</td>\n",
       "      <td>0.543592</td>\n",
       "      <td>0.080127</td>\n",
       "    </tr>\n",
       "    <tr>\n",
       "      <th>26</th>\n",
       "      <td>wide</td>\n",
       "      <td>0.06</td>\n",
       "      <td>0.96</td>\n",
       "      <td>0.542984</td>\n",
       "      <td>0.087389</td>\n",
       "    </tr>\n",
       "    <tr>\n",
       "      <th>22</th>\n",
       "      <td>wide</td>\n",
       "      <td>0.05</td>\n",
       "      <td>0.98</td>\n",
       "      <td>0.538009</td>\n",
       "      <td>0.091662</td>\n",
       "    </tr>\n",
       "  </tbody>\n",
       "</table>\n",
       "</div>"
      ],
      "text/plain": [
       "   model    lr  momentum       acc       std\n",
       "13  wide  0.04      0.95  0.556454  0.070871\n",
       "7   wide  0.03      0.95  0.549498  0.076045\n",
       "9   wide  0.03      0.97  0.543592  0.080127\n",
       "26  wide  0.06      0.96  0.542984  0.087389\n",
       "22  wide  0.05      0.98  0.538009  0.091662"
      ]
     },
     "execution_count": 60,
     "metadata": {},
     "output_type": "execute_result"
    }
   ],
   "source": [
    "cv_results.sort_values(by='acc', ascending=False, inplace=True)\n",
    "cv_results.head()"
   ]
  },
  {
   "cell_type": "markdown",
   "id": "99c252f5-c021-4ef0-882a-8e5baf6fb295",
   "metadata": {},
   "source": [
    "## Retrain final model"
   ]
  },
  {
   "cell_type": "code",
   "execution_count": 61,
   "id": "18c81fab-9526-4660-ae2e-83cc827395dd",
   "metadata": {},
   "outputs": [
    {
     "name": "stdout",
     "output_type": "stream",
     "text": [
      "Final model accuracy: 59.11%\n"
     ]
    }
   ],
   "source": [
    "best = cv_results.iloc[0]\n",
    "# loss function and optimizer\n",
    "loss_fn = nn.BCELoss()  # binary cross entropy\n",
    "optimizer = optim.SGD(model.parameters(), lr=best.lr, momentum=best.momentum)\n",
    "acc = model_train(model, X_train, y_train, X_test, y_test, loss_fn, optimizer, 250)\n",
    "print(f\"Final model accuracy: {acc*100:.2f}%\")"
   ]
  },
  {
   "cell_type": "markdown",
   "id": "26196756-98ae-44dd-9aed-0b1379233c7d",
   "metadata": {},
   "source": [
    "## Inference\n",
    "Test inference by running 5 samples from test dataset"
   ]
  },
  {
   "cell_type": "code",
   "execution_count": 62,
   "id": "ad5da730-4223-4cff-9ab4-deb019f213a1",
   "metadata": {},
   "outputs": [
    {
     "name": "stdout",
     "output_type": "stream",
     "text": [
      "[0.39241543 0.53410065 0.33871725 0.5672166  0.38731602 0.9182266\n",
      " 0.54631406 0.5251893  0.40873888] -> [0.35710853] (expected [0.])\n",
      "[0.4414133  0.604799   0.39342815 0.49100453 0.4402344  0.2705878\n",
      " 0.71195996 0.46142605 0.6282122 ] -> [0.36561126] (expected [0.])\n",
      "[0.34953028 0.49078384 0.3030454  0.5497642  0.5485517  0.44013718\n",
      " 0.61567175 0.5021979  0.61324877] -> [0.36286065] (expected [0.])\n",
      "[0.6417422  0.37393522 0.35499853 0.5280535  0.498728   0.37569863\n",
      " 0.32162672 0.65971345 0.5648453 ] -> [0.36583436] (expected [0.])\n",
      "[0.64345044 0.555361   0.56824684 0.46899134 0.54563564 0.44884896\n",
      " 0.4158005  0.6986135  0.59073627] -> [0.36937305] (expected [1.])\n"
     ]
    }
   ],
   "source": [
    "model.eval()\n",
    "with torch.no_grad():\n",
    "    # Test out inference with 5 samples\n",
    "    for i in range(5):\n",
    "        y_pred = model(X_test[i:i+1])\n",
    "        print(f\"{X_test[i].numpy()} -> {y_pred[0].numpy()} (expected {y_test[i].numpy()})\")"
   ]
  },
  {
   "cell_type": "markdown",
   "id": "125fe44f-8f38-457f-bb70-4bd11145bf13",
   "metadata": {},
   "source": [
    "## ROC\n",
    "Receiver operating characteristics curve"
   ]
  },
  {
   "cell_type": "code",
   "execution_count": 63,
   "id": "7f584425-36f9-49b5-8588-c103e51578d0",
   "metadata": {},
   "outputs": [
    {
     "data": {
      "image/png": "[encoded data removed]",
      "text/plain": [
       "<Figure size 640x480 with 1 Axes>"
      ]
     },
     "metadata": {},
     "output_type": "display_data"
    }
   ],
   "source": [
    "from sklearn.metrics import roc_curve\n",
    "import matplotlib.pyplot as plt\n",
    " \n",
    "with torch.no_grad():\n",
    "    # Plot the ROC curve\n",
    "    y_pred = model(X_test)\n",
    "    fpr, tpr, thresholds = roc_curve(y_test, y_pred)\n",
    "    plt.plot(fpr, tpr) # ROC curve = TPR vs FPR\n",
    "    plt.title(\"Receiver Operating Characteristics\")\n",
    "    plt.xlabel(\"False Positive Rate\")\n",
    "    plt.ylabel(\"True Positive Rate\")\n",
    "    plt.show()"
   ]
  },
  {
   "cell_type": "code",
   "execution_count": null,
   "id": "1f717b5b-8d20-41c3-8e45-81d7fe5f419f",
   "metadata": {},
   "outputs": [],
   "source": []
  }
 ],
 "metadata": {
  "kernelspec": {
   "display_name": "Python 3 (ipykernel)",
   "language": "python",
   "name": "python3"
  },
  "language_info": {
   "codemirror_mode": {
    "name": "ipython",
    "version": 3
   },
   "file_extension": ".py",
   "mimetype": "text/x-python",
   "name": "python",
   "nbconvert_exporter": "python",
   "pygments_lexer": "ipython3",
   "version": "3.12.2"
  }
 },
 "nbformat": 4,
 "nbformat_minor": 5
}
