{
 "cells": [
  {
   "cell_type": "markdown",
   "id": "da03d877-f808-47bc-978a-b01c79530803",
   "metadata": {},
   "source": [
    "# Improving models"
   ]
  },
  {
   "cell_type": "code",
   "execution_count": 3,
   "id": "30e7cede-263d-42cd-bee6-c95c2322fea4",
   "metadata": {},
   "outputs": [
    {
     "data": {
      "text/html": [
       "<div>\n",
       "<style scoped>\n",
       "    .dataframe tbody tr th:only-of-type {\n",
       "        vertical-align: middle;\n",
       "    }\n",
       "\n",
       "    .dataframe tbody tr th {\n",
       "        vertical-align: top;\n",
       "    }\n",
       "\n",
       "    .dataframe thead th {\n",
       "        text-align: right;\n",
       "    }\n",
       "</style>\n",
       "<table border=\"1\" class=\"dataframe\">\n",
       "  <thead>\n",
       "    <tr style=\"text-align: right;\">\n",
       "      <th></th>\n",
       "      <th>name</th>\n",
       "      <th>hair</th>\n",
       "      <th>feathers</th>\n",
       "      <th>eggs</th>\n",
       "      <th>milk</th>\n",
       "      <th>predator</th>\n",
       "      <th>fins</th>\n",
       "      <th>legs</th>\n",
       "      <th>tail</th>\n",
       "      <th>type</th>\n",
       "    </tr>\n",
       "  </thead>\n",
       "  <tbody>\n",
       "    <tr>\n",
       "      <th>0</th>\n",
       "      <td>skimmer</td>\n",
       "      <td>0</td>\n",
       "      <td>1</td>\n",
       "      <td>1</td>\n",
       "      <td>0</td>\n",
       "      <td>1</td>\n",
       "      <td>0</td>\n",
       "      <td>2</td>\n",
       "      <td>1</td>\n",
       "      <td>2</td>\n",
       "    </tr>\n",
       "    <tr>\n",
       "      <th>1</th>\n",
       "      <td>gull</td>\n",
       "      <td>0</td>\n",
       "      <td>1</td>\n",
       "      <td>1</td>\n",
       "      <td>0</td>\n",
       "      <td>1</td>\n",
       "      <td>0</td>\n",
       "      <td>2</td>\n",
       "      <td>1</td>\n",
       "      <td>2</td>\n",
       "    </tr>\n",
       "    <tr>\n",
       "      <th>2</th>\n",
       "      <td>seahorse</td>\n",
       "      <td>0</td>\n",
       "      <td>0</td>\n",
       "      <td>1</td>\n",
       "      <td>0</td>\n",
       "      <td>0</td>\n",
       "      <td>1</td>\n",
       "      <td>0</td>\n",
       "      <td>1</td>\n",
       "      <td>4</td>\n",
       "    </tr>\n",
       "    <tr>\n",
       "      <th>3</th>\n",
       "      <td>tuatara</td>\n",
       "      <td>0</td>\n",
       "      <td>0</td>\n",
       "      <td>1</td>\n",
       "      <td>0</td>\n",
       "      <td>1</td>\n",
       "      <td>0</td>\n",
       "      <td>4</td>\n",
       "      <td>1</td>\n",
       "      <td>3</td>\n",
       "    </tr>\n",
       "    <tr>\n",
       "      <th>4</th>\n",
       "      <td>squirrel</td>\n",
       "      <td>1</td>\n",
       "      <td>0</td>\n",
       "      <td>0</td>\n",
       "      <td>1</td>\n",
       "      <td>0</td>\n",
       "      <td>0</td>\n",
       "      <td>2</td>\n",
       "      <td>1</td>\n",
       "      <td>1</td>\n",
       "    </tr>\n",
       "  </tbody>\n",
       "</table>\n",
       "</div>"
      ],
      "text/plain": [
       "       name   hair   feathers   eggs   milk   predator   fins   legs   tail  \\\n",
       "0   skimmer      0          1      1      0          1      0      2      1   \n",
       "1      gull      0          1      1      0          1      0      2      1   \n",
       "2  seahorse      0          0      1      0          0      1      0      1   \n",
       "3   tuatara      0          0      1      0          1      0      4      1   \n",
       "4  squirrel      1          0      0      1          0      0      2      1   \n",
       "\n",
       "    type  \n",
       "0      2  \n",
       "1      2  \n",
       "2      4  \n",
       "3      3  \n",
       "4      1  "
      ]
     },
     "execution_count": 3,
     "metadata": {},
     "output_type": "execute_result"
    }
   ],
   "source": [
    "import pandas as pd\n",
    "import numpy as np\n",
    "\n",
    "animals = pd.read_csv('animals.csv')\n",
    "animals.head()"
   ]
  },
  {
   "cell_type": "code",
   "execution_count": 15,
   "id": "4af01be8-da04-4fbd-95cc-b0b59c43eeb5",
   "metadata": {},
   "outputs": [
    {
     "data": {
      "text/plain": [
       "array([[0, 1, 1, 0, 1, 0, 2, 1],\n",
       "       [0, 1, 1, 0, 1, 0, 2, 1],\n",
       "       [0, 0, 1, 0, 0, 1, 0, 1],\n",
       "       [0, 0, 1, 0, 1, 0, 4, 1],\n",
       "       [1, 0, 0, 1, 0, 0, 2, 1]])"
      ]
     },
     "execution_count": 15,
     "metadata": {},
     "output_type": "execute_result"
    }
   ],
   "source": [
    "# all columns except the name and the type\n",
    "features = animals.iloc[:, 1:-1]\n",
    "X = features.to_numpy()\n",
    "X"
   ]
  },
  {
   "cell_type": "code",
   "execution_count": 16,
   "id": "151242fe-c436-4f55-b95f-07d53caddfb4",
   "metadata": {},
   "outputs": [
    {
     "data": {
      "text/plain": [
       "array([2, 2, 4, 3, 1])"
      ]
     },
     "execution_count": 16,
     "metadata": {},
     "output_type": "execute_result"
    }
   ],
   "source": [
    "# target aka ground truth\n",
    "target = animals.iloc[:, -1]\n",
    "y = target.to_numpy()\n",
    "y"
   ]
  },
  {
   "cell_type": "code",
   "execution_count": 17,
   "id": "c0a3b568-5fdb-4ebe-98a0-7c87a8d50341",
   "metadata": {},
   "outputs": [],
   "source": [
    "import torch\n",
    "from torch.utils.data import TensorDataset\n",
    "\n",
    "# setup tensor dataset\n",
    "dataset = TensorDataset(torch.tensor(X).float(), torch.tensor(y).float())"
   ]
  },
  {
   "cell_type": "code",
   "execution_count": 19,
   "id": "6882da78-46af-4cc1-a901-81df973c059a",
   "metadata": {},
   "outputs": [
    {
     "name": "stdout",
     "output_type": "stream",
     "text": [
      "input: tensor([0., 1., 1., 0., 1., 0., 2., 1.]), label: tensor(2.)\n"
     ]
    }
   ],
   "source": [
    "# access individual samples\n",
    "sample = dataset[0]\n",
    "input_sample, label_sample = sample\n",
    "print(\"input: %s, label: %s\" % (input_sample, label_sample))"
   ]
  },
  {
   "cell_type": "code",
   "execution_count": 21,
   "id": "c2897cbf-7307-4500-9720-92822e69f94f",
   "metadata": {},
   "outputs": [
    {
     "name": "stdout",
     "output_type": "stream",
     "text": [
      "inputs: tensor([[0., 1., 1., 0., 1., 0., 2., 1.],\n",
      "        [0., 0., 1., 0., 1., 0., 4., 1.]]), labels: tensor([2., 3.])\n",
      "inputs: tensor([[1., 0., 0., 1., 0., 0., 2., 1.],\n",
      "        [0., 0., 1., 0., 0., 1., 0., 1.]]), labels: tensor([1., 4.])\n",
      "inputs: tensor([[0., 1., 1., 0., 1., 0., 2., 1.]]), labels: tensor([2.])\n"
     ]
    }
   ],
   "source": [
    "from torch.utils.data import DataLoader\n",
    "\n",
    "batch_size = 2 # how many samples per iteration\n",
    "shuffle = True\n",
    "\n",
    "# create a dataloader and iterate\n",
    "dataloader = DataLoader(dataset, batch_size=batch_size, shuffle=shuffle)\n",
    "for batch_inputs, batch_labels in dataloader:\n",
    "    print(\"inputs: %s, labels: %s\" % (batch_inputs, batch_labels))\n",
    "    "
   ]
  },
  {
   "cell_type": "markdown",
   "id": "5ec16b44-7fd6-4ec6-a172-4bb6cc1bf9da",
   "metadata": {},
   "source": [
    "Another example"
   ]
  },
  {
   "cell_type": "code",
   "execution_count": null,
   "id": "b062c0aa-e508-416d-bde3-075ca23399b4",
   "metadata": {},
   "outputs": [],
   "source": [
    "# Load the different columns into two PyTorch tensors\n",
    "features = torch.tensor(dataframe[['ph', 'Sulfate', 'Conductivity', 'Organic_carbon']].to_numpy()).float()\n",
    "target = torch.tensor(dataframe['Potability'].to_numpy()).float()\n",
    "\n",
    "# Create a dataset from the two generated tensors\n",
    "dataset = TensorDataset(features, target)\n",
    "\n",
    "# Create a dataloader using the above dataset\n",
    "dataloader = DataLoader(dataset, shuffle=True, batch_size=2)\n",
    "x, y = next(iter(dataloader))\n",
    "\n",
    "# Create a model using the nn.Sequential API\n",
    "model = nn.Sequential(nn.Linear(4, 2), nn.Linear(2, 1))\n",
    "output = model(features)\n",
    "print(output)"
   ]
  },
  {
   "cell_type": "code",
   "execution_count": null,
   "id": "8845e454-972f-46e4-a94b-d554a94bf0a9",
   "metadata": {},
   "outputs": [],
   "source": []
  }
 ],
 "metadata": {
  "kernelspec": {
   "display_name": "Python 3 (ipykernel)",
   "language": "python",
   "name": "python3"
  },
  "language_info": {
   "codemirror_mode": {
    "name": "ipython",
    "version": 3
   },
   "file_extension": ".py",
   "mimetype": "text/x-python",
   "name": "python",
   "nbconvert_exporter": "python",
   "pygments_lexer": "ipython3",
   "version": "3.12.2"
  }
 },
 "nbformat": 4,
 "nbformat_minor": 5
}
