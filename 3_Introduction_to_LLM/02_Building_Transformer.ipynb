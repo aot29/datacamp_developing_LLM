{
 "cells": [
  {
   "cell_type": "markdown",
   "id": "59b79fa3-6d44-4ef1-9d99-260482bf687c",
   "metadata": {},
   "source": [
    "# Building a Tranformer Architecture\n",
    "\n",
    "Attention mechanism: capture long-range dependencies. Use whole sequence to weight each element.\n",
    "Create a vector describing the token's position in the sequence <- transformers process tokens simultaneously"
   ]
  },
  {
   "cell_type": "code",
   "execution_count": 3,
   "id": "f6cc6dad-70cc-48c2-8dcf-bd4ea8acefe0",
   "metadata": {},
   "outputs": [],
   "source": [
    "import torch\n",
    "import torch.nn as nn\n",
    "\n",
    "#  Create a vector describing the token's position in the sequence\n",
    "class PositionalEncoder(nn.Module):\n",
    "    def __init__(self, d_model, max_seq_length=512):\n",
    "        super(PositionalEncoder, self).__init__()\n",
    "        \n",
    "        # set max length and embedding size\n",
    "        self.d_model = d_model\n",
    "        self.max_seq_length = max_seq_length\n",
    "        \n",
    "        # create matrix for sequences up to max_seq_length\n",
    "        pe = torch.zeros(max_seq_length, d_model)\n",
    "\n",
    "        # position indices in the sequence\n",
    "        position = torch.arange(0, max_seq_length, dtype=torch.float).unsqueeze(1)\n",
    "\n",
    "        # scale position indices\n",
    "        div_term = torch.exp(torch.arange(0, d_model, 2, dtype=torch.float) * -(math.log(10000.0) / d_model))\n",
    "        # alternate sin and cos to assign unique position encodings to the matrix pe\n",
    "        pe[:, 0::2] = torch.sin(position * div_term)\n",
    "        pe[:, 1::2] = torch.cos(position * div_term)\n",
    "        pe = pe.unsqueeze(0)\n",
    "\n",
    "        # set pe as non-trainable\n",
    "        self.register_buffer('pe', pe)\n",
    "\n",
    "    def forward(self, x):\n",
    "        \"\"\"Add positional encodings pe to input tensor of sequence embeddings, X\"\"\"\n",
    "        x = x + self.pe[:, :x.size(1)]\n",
    "        return x"
   ]
  },
  {
   "cell_type": "markdown",
   "id": "ea9776da-272d-4ced-b4e3-aee9bb9142b6",
   "metadata": {},
   "source": [
    "Self-attention: understand the interrelationship between words in a sequence.\n",
    "\n",
    "1. Input: sequence of embeddings.\n",
    "2. Project the sequence of embeddings into 3 sequences of same dimensions: Q:query, K:key, V:values, by applying 3 linear transformations, each with its own weights learned during training\n",
    "3. Compute a Q-K similarity matrix of attention scores (scaled dot-product self-attention)\n",
    "4. Apply softmax to get a matrix of attention weights\n",
    "\n",
    "In practice, transformers paralellize attention heads"
   ]
  },
  {
   "cell_type": "code",
   "execution_count": 2,
   "id": "e5fac7d9-b377-433a-873f-2a4b140e2544",
   "metadata": {},
   "outputs": [],
   "source": [
    "import torch.nn as nn\n",
    "import torch.nn.functional as F\n",
    "\n",
    "class MultiHeadAttention(nn.Module):\n",
    "    def __init__(self, d_model, num_heads):\n",
    "        \"\"\"\n",
    "        num_heads: number of attention heads, each handling embeddings of size head_dim\n",
    "        \"\"\"\n",
    "        super(MultiHeadAttention, self).__init__()\n",
    "        self.num_heads = num_heads\n",
    "        seld.d_model = d_model\n",
    "        self.head_dim = d_model // num_heads\n",
    "\n",
    "        # define 3 linear transformatins for attention input\n",
    "        self.query_linear = nn.Linear(d_model, d_model)\n",
    "        self.key_linear = nn.Linear(d_model, d_model)\n",
    "        self.value_linear = nn.Linear(d_model, d_model)\n",
    "\n",
    "        # define linear transformation for the final concatenated output\n",
    "        self.output_linear = nn.Linear(d_model, d_model)\n",
    "\n",
    "    def split_heads(self, x, batch_size):\n",
    "        \"\"\"Split the inputs accross attention heads\"\"\"\n",
    "        x = x.view(batch_size, -1, self.num_heads, self.head_dim)\n",
    "        return x.permute(0, 2, 1, 3).contiguous().view(batch_size * self.num_heads, -1, self.head_dim)\n",
    "\n",
    "    def compute_attention(self, query, key, mask=None):\n",
    "        \"\"\"Computes attention weights inside each head.\"\"\"\n",
    "        # Compute dot-product attention scores\n",
    "        scores = torch.matmul(query, key.permute(1, 2, 0))\n",
    "        if mask is not None:\n",
    "            scores = scores.masked_fill(mask == 0, float(\"-1e9\"))\n",
    "        # Normalize attention scores into attention weights\n",
    "        attention_weights = F.softmax(scores, dim=-1)\n",
    "        return attention_weights\n",
    "\n",
    "    def forward(self, query, key, value, mask=None):\n",
    "        batch_size = query.size(0)\n",
    "\n",
    "        # attention weights for Q, K, V\n",
    "        query = self.split_heads(self.query_linear(query), batch_size)\n",
    "        key = self.split_heads(self.key_linear(key), batch_size)\n",
    "        value = self.split_heads(self.value_linear(value), batch_size)\n",
    "\n",
    "        # concatenate\n",
    "        attention_weights = self.compute_attention(query, key, mask)\n",
    "\n",
    "        # Multiply attention weights by values, concatenate and linearly project outputs\n",
    "        output = torch.matmul(attention_weights, value)\n",
    "        output = output.view(batch_size, self.num_heads, -1, self.head_dim).permute(0, 2, 1, 3).contiguous().view(batch_size, -1, self.d_model)\n",
    "        return self.output_linear(output)"
   ]
  },
  {
   "cell_type": "markdown",
   "id": "2b98e325-c871-4906-bd2a-d960e7a8b052",
   "metadata": {},
   "source": [
    "## Building an encoder transformer\n",
    "An encoder-based transformer that incorporates the self-atttention mechanism above.\n",
    "\n",
    "The original transformer architecture incorporates an encoder and a decoder, for sequence-to-sequence language generation.\n",
    "\n",
    "A simpler form only includes an encoder, for text classification, named-entity, intent recognition...\n",
    "\n",
    "Tranformer body\n",
    "> Stack of encoder layers. Each layer has multi-headed self-attention. Followed by feed-forward layer. Also includes layers required by training: dropout, normalization...\n",
    "\n",
    "Transformer head\n",
    "> Final layer, produces task-specific output. In encoder-only transformer: typical supervised learning tasks such as classification, regression"
   ]
  },
  {
   "cell_type": "markdown",
   "id": "938c302b-79c8-4de5-a844-734af1e3fa34",
   "metadata": {},
   "source": [
    "#### Feed-forward layer\n",
    "2 x fully connected + ReLU activation\n",
    "\n",
    "d_ff: dimension used between linear layers, typically different from the d_model dimension"
   ]
  },
  {
   "cell_type": "code",
   "execution_count": 3,
   "id": "321563b7-c063-470d-b342-0d53cea10fc8",
   "metadata": {},
   "outputs": [],
   "source": [
    "import torch.nn as nn\n",
    "\n",
    "class FeedForwardSubLayer(nn.Module):\n",
    "    def __init__(self, d_model, d_ff):\n",
    "        super(FeedForwardSubLayer, self).__init__()\n",
    "        self.fc1 = nn.Linear(d_model, d_ff)\n",
    "        self.fc2 = nn.Linear(d_ff, d_model)\n",
    "        self.relu = nn.ReLU()\n",
    "\n",
    "    def forward(self, x):\n",
    "        return self.fc2(self.relu(self.fc1(x)))"
   ]
  },
  {
   "cell_type": "markdown",
   "id": "b71b2bb0-17f8-463c-917b-c47a0a006799",
   "metadata": {},
   "source": [
    "#### Encoder layer\n",
    "* Multi-headed self-attention\n",
    "* Feed-forward sublayer\n",
    "* Layer normalization and dropout\n",
    "\n",
    "In forward-pass, uses a mask to prevent processing of padding tokens"
   ]
  },
  {
   "cell_type": "code",
   "execution_count": 6,
   "id": "bc14a618-b3d6-4ad6-9877-fa60ecdd5457",
   "metadata": {},
   "outputs": [],
   "source": [
    "class EncoderLayer(nn.Module):\n",
    "    def __init__(self, d_model, num_heads, d_ff, dropout):\n",
    "        super(EncoderLayer, self).__init__()\n",
    "        self.self_attn = MultiHeadAttention(d_model, num_heads)\n",
    "        self.feed_forward = FeedForwardSubLayer(d_model, d_ff)\n",
    "        self.norm1 = nn.LayerNorm(d_model)\n",
    "        self.norm2 = nn.LayerNorm(d_model)\n",
    "        self.dropout = nn.Dropout(dropout)\n",
    "\n",
    "    def forward(self, x, mask):\n",
    "        attn_output = self.self_attn(x, x, x, mask)\n",
    "        x = self.norm1(x+self.dropout(attn_output))\n",
    "        ff_output = self.feed_forward(x)\n",
    "        x = self.norm2(x+self.dropout(ff_output))\n",
    "        return x"
   ]
  },
  {
   "cell_type": "markdown",
   "id": "95b3eb38-4046-4328-b309-4d4af1670ce6",
   "metadata": {},
   "source": [
    "#### The encoder\n",
    "* Input embeddings based on vocab_size\n",
    "* Positional encoding\n",
    "* Stack of encoder layers"
   ]
  },
  {
   "cell_type": "code",
   "execution_count": 7,
   "id": "ff8a619d-f07a-4bc0-a7a9-9dedb0d964f3",
   "metadata": {},
   "outputs": [],
   "source": [
    "class TransformerEncoder(nn.Module):\n",
    "    def __init__(self, vocab_size, d_model, num_layers, num_heads, d_ff, dropout, max_sequence_length):\n",
    "        super(TransformerEncoder, self).__init__()\n",
    "        self.embedding = nn.Embedding(vocab_size, d_model)\n",
    "        self.positional_encoding = PositionalEncoding(d_model, max_sequence_length)\n",
    "        self.layers = nn.ModuleList(\n",
    "            [EncoderLayer(d_model, num_heads, d_ff, dropout) for _ in range(num_layers)]\n",
    "        )\n",
    "\n",
    "    def forward(self, x, mask):\n",
    "        x = self.embedding(x)\n",
    "        x = self.positional_encoding(x)\n",
    "        for layer in self.layers:\n",
    "            x = layer(x, mask)\n",
    "        return x"
   ]
  },
  {
   "cell_type": "markdown",
   "id": "7f79fb13-aa6d-4d4f-84a9-e63f90a24d92",
   "metadata": {},
   "source": [
    "#### Tranformer head for classification\n",
    "Application: classification, sentiment, extractive QA\n",
    "\n",
    "Transforms hidden states into num_classes probabilities"
   ]
  },
  {
   "cell_type": "code",
   "execution_count": null,
   "id": "1ab57f3f-3f14-4412-93e9-54809a8ed834",
   "metadata": {},
   "outputs": [],
   "source": [
    "class ClassifierHead(nn.Module):\n",
    "    def __init__(self, d_model, num_classes):\n",
    "        super(ClassifierHead, self).__init__()\n",
    "        self.fc = nn.Linear(d_model, num_classes)\n",
    "\n",
    "    def forward(self, x):\n",
    "        logits = self.fc(x)\n",
    "        return F.log_softmax(logits, dim=-1)"
   ]
  },
  {
   "cell_type": "markdown",
   "id": "0df42dfe-ce27-4230-8c5c-5833f52f4623",
   "metadata": {},
   "source": [
    "#### Transformer head for regression\n",
    "Application: estimate readability, measure complexity,...\n",
    "\n",
    "output_dim is 1 when predicting 1 value"
   ]
  },
  {
   "cell_type": "code",
   "execution_count": 8,
   "id": "daac071d-4719-408a-83c2-3e552d0087f6",
   "metadata": {},
   "outputs": [],
   "source": [
    "class RegressionHead(nn.Module):\n",
    "    def __init__(self, d_model, output_dim):\n",
    "        super(RegressionHead, self).__init__()\n",
    "        self.fc = nn.Linear(d_model, output_dim)\n",
    "\n",
    "    def forward(self, x):\n",
    "        return self.fc(x)"
   ]
  },
  {
   "cell_type": "code",
   "execution_count": null,
   "id": "8b4cbafa-f31b-4191-8fad-465ca5308564",
   "metadata": {},
   "outputs": [],
   "source": []
  }
 ],
 "metadata": {
  "kernelspec": {
   "display_name": "Python 3 (ipykernel)",
   "language": "python",
   "name": "python3"
  },
  "language_info": {
   "codemirror_mode": {
    "name": "ipython",
    "version": 3
   },
   "file_extension": ".py",
   "mimetype": "text/x-python",
   "name": "python",
   "nbconvert_exporter": "python",
   "pygments_lexer": "ipython3",
   "version": "3.12.2"
  }
 },
 "nbformat": 4,
 "nbformat_minor": 5
}
