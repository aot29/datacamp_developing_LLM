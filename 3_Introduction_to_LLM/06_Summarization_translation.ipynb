{
 "cells": [
  {
   "cell_type": "markdown",
   "id": "424a279c-1bdc-485a-b681-c18cd61834bd",
   "metadata": {},
   "source": [
    "# LLMs for summarization and translation\n",
    "Input and target are sequences.\n",
    "\n",
    "## Summarization\n",
    "\n",
    "Extractive summarization\n",
    "> select and combine parts of the original text. BERT (encoder model), T5 (encoder / decoder)\n",
    "\n",
    "Abstractive summarization\n",
    "> generate a summary word by word (sequence to sequence)"
   ]
  },
  {
   "cell_type": "code",
   "execution_count": 1,
   "id": "0c29e79c-689c-41b5-a0bd-5c3f60b493ed",
   "metadata": {},
   "outputs": [
    {
     "name": "stderr",
     "output_type": "stream",
     "text": [
      "/home/atroncos/anaconda3/envs/pt_llm/lib/python3.12/site-packages/tqdm/auto.py:21: TqdmWarning: IProgress not found. Please update jupyter and ipywidgets. See https://ipywidgets.readthedocs.io/en/stable/user_install.html\n",
      "  from .autonotebook import tqdm as notebook_tqdm\n",
      "Downloading readme: 100%|████████████████████████████████████████████████████████████████████████████████████████| 4.78k/4.78k [00:00<00:00, 7.22MB/s]\n",
      "Downloading data: 100%|██████████████████████████████████████████████████████████████████████████████████████████| 46.5M/46.5M [00:02<00:00, 18.7MB/s]\n",
      "Downloading data: 100%|██████████████████████████████████████████████████████████████████████████████████████████| 16.8M/16.8M [00:01<00:00, 9.99MB/s]\n",
      "Downloading data: 100%|██████████████████████████████████████████████████████████████████████████████████████████| 3.37M/3.37M [00:01<00:00, 2.57MB/s]\n",
      "Generating train split: 100%|█████████████████████████████████████████████████████████████████████████| 12565/12565 [00:00<00:00, 31500.12 examples/s]\n",
      "Generating test split: 100%|████████████████████████████████████████████████████████████████████████████| 4487/4487 [00:00<00:00, 35230.15 examples/s]\n",
      "Generating validation split: 100%|████████████████████████████████████████████████████████████████████████| 898/898 [00:00<00:00, 33032.10 examples/s]"
     ]
    },
    {
     "name": "stdout",
     "output_type": "stream",
     "text": [
      "Features: ['id', 'Article', 'Heading', 'Summary']\n"
     ]
    },
    {
     "name": "stderr",
     "output_type": "stream",
     "text": [
      "\n"
     ]
    }
   ],
   "source": [
    "from datasets import load_dataset\n",
    "\n",
    "dataset = load_dataset(\"ILSUM/ILSUM-1.0\", \"English\")\n",
    "print(f\"Features: {dataset['train'].column_names}\")"
   ]
  },
  {
   "cell_type": "code",
   "execution_count": 2,
   "id": "e5684115-8111-4544-af1b-e8aae917409f",
   "metadata": {},
   "outputs": [
    {
     "data": {
      "text/plain": [
       "'This is how an Apple Watch saved a man\\'s life after detecting accidentIt all started when Gabe Burdett was waiting for his father Bob at their pre-designated location for some mountain biking at the Riverside State Park when he received a text alert from his dad\\'s Apple Watch, saying it had detected a \"hard fall\".Burdett, from city of Spokane in Washington State later received another update from the Watch, saying his father had reached Sacred Heart Medical Center.\"We drove straight there but he was gone when we arrived. I get another update from the Watch saying his location has changed with a map location of SHMC. Dad flipped his bike at the bottom of Doomsday, hit his head and was knocked out until sometime during the ambulance ride,\" Burdett wrote in a Facebook post.The Watch notified 911 with the location and within 30 minutes, emergency medical services (EMS) took the injured Bob to the hospital.\"If you own an Apple Watch, set up your hard fall detection, it\\'s not just for when you fall off a roof or a ladder,\" Burdett further posted.\"Had he fallen somewhere on the High Drive trails or another remote area, the location would have clued EMS in on where to find him. Amazing technology and so glad he had it,\" Burdett said.(function(d, s, id) { var js, fjs = d.getElementsByTagName(s)[0]; if (d.getElementById(id)) return; js = d.createElement(s); js.id = id; js.src = \"//connect.facebook.net/en_US/sdk.js#xfbml=1&version=v2.6&appId=1530374180564359\"; fjs.parentNode.insertBefore(js, fjs); }(document, \"script\", \"facebook-jssdk\")); There have been several examples where Apple Watch saved lives.A US doctor recently saved a person\\'s life by using Apple Watch Series 4 on his wrist to detect atrial fibrillation (AFib) at a restaurant.An Apple Watch user in the UK was recently alerted about his low heart rate by the device. It revealed a serious heart condition that ultimately resulted in a surgery to fix the problem.(With inputs from IANS)'"
      ]
     },
     "execution_count": 2,
     "metadata": {},
     "output_type": "execute_result"
    }
   ],
   "source": [
    "example = dataset['train'][21]\n",
    "example['Article']"
   ]
  },
  {
   "cell_type": "markdown",
   "id": "72856e89-06ab-457c-bf95-fc9055d5ec5e",
   "metadata": {},
   "source": [
    "Interesting attributes for training:\n",
    "* Article: full text\n",
    "* Summary: ground truth for testing predictions"
   ]
  },
  {
   "cell_type": "markdown",
   "id": "fc3c639e-0609-4804-b21a-c2ddf4dcb811",
   "metadata": {},
   "source": [
    "Load pre-trained LLM"
   ]
  },
  {
   "cell_type": "code",
   "execution_count": 3,
   "id": "0e826858-349a-470b-b90a-189f778a7c54",
   "metadata": {},
   "outputs": [
    {
     "name": "stderr",
     "output_type": "stream",
     "text": [
      "/home/atroncos/anaconda3/envs/pt_llm/lib/python3.12/site-packages/huggingface_hub/file_download.py:1132: FutureWarning: `resume_download` is deprecated and will be removed in version 1.0.0. Downloads always resume when possible. If you want to force a new download, use `force_download=True`.\n",
      "  warnings.warn(\n"
     ]
    },
    {
     "name": "stdout",
     "output_type": "stream",
     "text": [
      "a man was waiting for his father when he received a text alert from his dad's apple watch. the watch notified 911 with the location and within 30 minutes, emergency medical services took the injured Bob to the hospital. the watch notified 911 with the location and within 30 minutes, emergency medical services took the injured Bob to the hospital.\n"
     ]
    }
   ],
   "source": [
    "from transformers import AutoTokenizer, AutoModelForSeq2SeqLM\n",
    "\n",
    "model_name = \"t5-small\"  # encoder/decoder model\n",
    "tokenizer = AutoTokenizer.from_pretrained(model_name)\n",
    "model = AutoModelForSeq2SeqLM.from_pretrained(model_name)\n",
    "\n",
    "input_ids = tokenizer.encode(\n",
    "    'summarize: ' + example['Article'], # specify task by adding a prefix\n",
    "    return_tensors='pt', max_length=512, truncation=True\n",
    ")\n",
    "\n",
    "summary_ids = model.generate(input_ids, max_length=150)\n",
    "summary = tokenizer.decode(\n",
    "    summary_ids[0], skip_special_tokens=True)\n",
    "\n",
    "print(summary)"
   ]
  },
  {
   "cell_type": "markdown",
   "id": "77622934-b386-4769-bfbd-ec919680c738",
   "metadata": {},
   "source": [
    "## Another example of summarization"
   ]
  },
  {
   "cell_type": "code",
   "execution_count": 10,
   "id": "9603e1c5-70f1-4988-9d68-caf4568ac817",
   "metadata": {},
   "outputs": [
    {
     "name": "stderr",
     "output_type": "stream",
     "text": [
      "/home/atroncos/anaconda3/envs/pt_llm/lib/python3.12/site-packages/datasets/load.py:1486: FutureWarning: The repository for opinosis contains custom code which must be executed to correctly load the dataset. You can inspect the repository content at https://hf.co/datasets/opinosis\n",
      "You can avoid this message in future by passing the argument `trust_remote_code=True`.\n",
      "Passing `trust_remote_code=True` will be mandatory to load this dataset from the next major release of `datasets`.\n",
      "  warnings.warn(\n",
      "Downloading builder script: 100%|████████████████████████████████████████████████████████████████████████████████| 3.40k/3.40k [00:00<00:00, 7.42MB/s]\n",
      "Downloading readme: 100%|████████████████████████████████████████████████████████████████████████████████████████| 5.97k/5.97k [00:00<00:00, 10.6MB/s]\n",
      "Downloading data: 100%|████████████████████████████████████████████████████████████████████████████████████████████| 757k/757k [00:00<00:00, 12.1MB/s]\n",
      "Generating train split: 100%|████████████████████████████████████████████████████████████████████████████████| 51/51 [00:00<00:00, 4694.19 examples/s]\n"
     ]
    }
   ],
   "source": [
    "from transformers import AutoTokenizer, AutoModelForSeq2SeqLM\n",
    "\n",
    "dataset = load_dataset(\"opinosis\")\n",
    "model_name = \"t5-small\"\n",
    "tokenizer = AutoTokenizer.from_pretrained(model_name)\n",
    "model = AutoModelForSeq2SeqLM.from_pretrained(model_name)"
   ]
  },
  {
   "cell_type": "code",
   "execution_count": 12,
   "id": "85ecd153-7b0e-4d97-89ee-755a9a0ab027",
   "metadata": {},
   "outputs": [
    {
     "name": "stdout",
     "output_type": "stream",
     "text": [
      "Number of instances: 51\n",
      "Feature names: ['review_sents', 'summaries']\n"
     ]
    }
   ],
   "source": [
    "print(f\"Number of instances: {len(dataset['train'])}\")\n",
    "# Show the names of features in the training fold of the dataset\n",
    "print(f\"Feature names: {dataset['train'].column_names}\")"
   ]
  },
  {
   "cell_type": "code",
   "execution_count": 15,
   "id": "85942cbd-9d80-4005-942d-e6644cdc4116",
   "metadata": {},
   "outputs": [
    {
     "name": "stdout",
     "output_type": "stream",
     "text": [
      "\n",
      "Original text\n",
      " I bought the 8, gig Ipod Nano that has the built, in video camera .\n",
      "  Itunes has an on, line store, where you may purchase and download music and videos which will install onto the ipod .\n",
      "I have lots of music cd's and dvd's, so currently I'm just interested in storing some of my music and videos on the ipod so I can enjoy them on my vacation, and while at work .\n",
      "There's a right way and wrong wa\n",
      "\n",
      "Summary\n",
      " I bought the 8, gig Ipod Nano that has the built, in video camera. Itunes has an on, line store, where you may purchase and download music and videos which will install onto the ipod.\n"
     ]
    }
   ],
   "source": [
    "# Encode the input example, obtain the summary, and decode it\n",
    "example = dataset['train'][-2]['review_sents']\n",
    "input_ids = tokenizer.encode(\"summarize: \" + example, return_tensors='pt', max_length=512, truncation=True)\n",
    "summary_ids = model.generate(input_ids, max_length=150)\n",
    "summary = tokenizer.decode(summary_ids[0], skip_special_tokens=True)\n",
    "\n",
    "print(\"\\nOriginal text\\n\", example[:400])\n",
    "print(\"\\nSummary\\n\", summary)"
   ]
  },
  {
   "cell_type": "markdown",
   "id": "bab90a9b-03f9-4478-900e-6d8d6fec95aa",
   "metadata": {},
   "source": [
    "## Translation"
   ]
  },
  {
   "cell_type": "code",
   "execution_count": 9,
   "id": "1edad42f-f2f1-4d27-9db9-002927a833a0",
   "metadata": {},
   "outputs": [
    {
     "data": {
      "text/plain": [
       "'I see the city in celebration and delirium Suffocating under the sun and joy And I hear in the music the screams, the laughter that burst and bounce around me'"
      ]
     },
     "execution_count": 9,
     "metadata": {},
     "output_type": "execute_result"
    }
   ],
   "source": [
    "from transformers import AutoTokenizer, AutoModelForSeq2SeqLM\n",
    "\n",
    "model_name = \"Helsinki-NLP/opus-mt-fr-en\"\n",
    "tokenizer = AutoTokenizer.from_pretrained(model_name)\n",
    "model = AutoModelForSeq2SeqLM.from_pretrained(model_name)\n",
    "\n",
    "# input_seq = \"Je suis le poinçonneur des Lilas, le gars qu'on croise et qu'on ne regarde pas.\"\n",
    "input_seq = \"\"\"Je revois la ville en fête et en délire\n",
    "Suffoquant sous le soleil et sous la joie\n",
    "Et j'entends dans la musique les cris, les rires\n",
    "Qui éclatent et rebondissent autour de moi\"\"\"\n",
    "input_ids = tokenizer.encode(input_seq, return_tensors='pt')\n",
    "translated_ids = model.generate(input_ids)\n",
    "translated_text = tokenizer.decode(\n",
    "    translated_ids[0], skip_special_tokens=True\n",
    ")\n",
    "translated_text"
   ]
  },
  {
   "cell_type": "code",
   "execution_count": null,
   "id": "653b7a35-4ae0-4f40-975e-9970e78320c5",
   "metadata": {},
   "outputs": [],
   "source": []
  }
 ],
 "metadata": {
  "kernelspec": {
   "display_name": "Python 3 (ipykernel)",
   "language": "python",
   "name": "python3"
  },
  "language_info": {
   "codemirror_mode": {
    "name": "ipython",
    "version": 3
   },
   "file_extension": ".py",
   "mimetype": "text/x-python",
   "name": "python",
   "nbconvert_exporter": "python",
   "pygments_lexer": "ipython3",
   "version": "3.12.2"
  }
 },
 "nbformat": 4,
 "nbformat_minor": 5
}
