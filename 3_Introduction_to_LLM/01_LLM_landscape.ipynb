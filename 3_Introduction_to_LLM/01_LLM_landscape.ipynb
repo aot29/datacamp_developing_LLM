{
 "cells": [
  {
   "cell_type": "markdown",
   "id": "50228c9e-5a3e-4cec-9e6e-c43b86b085a7",
   "metadata": {},
   "source": [
    "## Hello World\n",
    "Popular LLM: GPT, BERT, LLaMA\n",
    "\n",
    "Pre-trained LLMs: huggingface.co"
   ]
  },
  {
   "cell_type": "code",
   "execution_count": 2,
   "id": "dc656aef-7302-4016-85ff-db5ef3541165",
   "metadata": {},
   "outputs": [
    {
     "name": "stderr",
     "output_type": "stream",
     "text": [
      "No model was supplied, defaulted to distilbert/distilbert-base-uncased-finetuned-sst-2-english and revision af0f99b (https://huggingface.co/distilbert/distilbert-base-uncased-finetuned-sst-2-english).\n",
      "Using a pipeline without specifying a model name and revision in production is not recommended.\n"
     ]
    },
    {
     "name": "stdout",
     "output_type": "stream",
     "text": [
      "[{'label': 'POSITIVE', 'score': 0.9997151494026184}]\n"
     ]
    }
   ],
   "source": [
    "from transformers import pipeline\n",
    "\n",
    "sentiment_classifier = pipeline(\"text-classification\")\n",
    "outputs = sentiment_classifier(\"\"\"Dear seller, \n",
    "I got very impresed with the fast delivery and careful packaging of my order. \n",
    "Great experience overall, thank you!\n",
    "\"\"\")\n",
    "print(outputs)"
   ]
  },
  {
   "cell_type": "code",
   "execution_count": null,
   "id": "8a9338bd-e0ae-4556-b511-1780c7679153",
   "metadata": {},
   "outputs": [],
   "source": []
  }
 ],
 "metadata": {
  "kernelspec": {
   "display_name": "Python 3 (ipykernel)",
   "language": "python",
   "name": "python3"
  },
  "language_info": {
   "codemirror_mode": {
    "name": "ipython",
    "version": 3
   },
   "file_extension": ".py",
   "mimetype": "text/x-python",
   "name": "python",
   "nbconvert_exporter": "python",
   "pygments_lexer": "ipython3",
   "version": "3.12.2"
  }
 },
 "nbformat": 4,
 "nbformat_minor": 5
}
